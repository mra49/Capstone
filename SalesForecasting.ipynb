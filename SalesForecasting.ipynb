{
  "nbformat": 4,
  "nbformat_minor": 0,
  "metadata": {
    "colab": {
      "provenance": [],
      "mount_file_id": "10gpTZw53tg7mA3qR_LzKfo1Q0TUTD5ie",
      "authorship_tag": "ABX9TyPfbJ0xwANHGr/I5QHtTCDh",
      "include_colab_link": true
    },
    "kernelspec": {
      "name": "python3",
      "display_name": "Python 3"
    },
    "language_info": {
      "name": "python"
    }
  },
  "cells": [
    {
      "cell_type": "markdown",
      "metadata": {
        "id": "view-in-github",
        "colab_type": "text"
      },
      "source": [
        "<a href=\"https://colab.research.google.com/github/mra49/Capstone/blob/main/SalesForecasting.ipynb\" target=\"_parent\"><img src=\"https://colab.research.google.com/assets/colab-badge.svg\" alt=\"Open In Colab\"/></a>"
      ]
    },
    {
      "cell_type": "code",
      "source": [
        "import pandas as pd"
      ],
      "metadata": {
        "id": "f1ud5BUBRkKO"
      },
      "execution_count": 2,
      "outputs": []
    },
    {
      "cell_type": "code",
      "source": [
        "df = pd.read_csv(\"/content/drive/MyDrive/Capstone/df_postUnify_PreRFM.csv\")"
      ],
      "metadata": {
        "colab": {
          "base_uri": "https://localhost:8080/"
        },
        "id": "azRsJ27eRITX",
        "outputId": "e2b09fb2-1d6c-49ac-8c22-1cf9d30f24ab"
      },
      "execution_count": 3,
      "outputs": [
        {
          "output_type": "stream",
          "name": "stderr",
          "text": [
            "<ipython-input-3-8ce247786829>:1: DtypeWarning: Columns (5,23) have mixed types. Specify dtype option on import or set low_memory=False.\n",
            "  df = pd.read_csv(\"/content/drive/MyDrive/Capstone/df_postUnify_PreRFM.csv\")\n"
          ]
        }
      ]
    },
    {
      "cell_type": "code",
      "source": [
        "# Convert 'Document Date' to datetime and sort\n",
        "df['Document Date'] = pd.to_datetime(df['Document Date'], errors='coerce')\n",
        "df = df.sort_values(by='Document Date')\n"
      ],
      "metadata": {
        "id": "Fmww1jJYRpjS"
      },
      "execution_count": 9,
      "outputs": []
    },
    {
      "cell_type": "code",
      "source": [
        "# Data types and missing values\n",
        "data_types_missing = df.dtypes.to_frame(name='Data Type').join(df.isnull().sum().rename('Missing Value Proportion'))\n",
        "print(data_types_missing)\n"
      ],
      "metadata": {
        "colab": {
          "base_uri": "https://localhost:8080/"
        },
        "id": "mxTmop8_VIUt",
        "outputId": "9816e165-c85a-49ea-feca-f7bebf7b2c67"
      },
      "execution_count": 10,
      "outputs": [
        {
          "output_type": "stream",
          "name": "stdout",
          "text": [
            "                         Data Type  Missing Value Proportion\n",
            "Location                    object                     12363\n",
            "Brand                       object                         0\n",
            "SubBrand                    object                         0\n",
            "Category                    object                      2592\n",
            "SOP Number                  object                         0\n",
            "Item Number                 object                         0\n",
            "Item Description            object                         0\n",
            "QTY                          int64                         0\n",
            "Unit Price                 float64                         0\n",
            "Extended Price             float64                         0\n",
            "Customer Number             object                         0\n",
            "Document Date       datetime64[ns]                         0\n",
            "Location Code               object                         0\n",
            "Item Short Name             object                         0\n",
            "Customer Name               object                         0\n",
            "SOP Type                    object                         0\n",
            "Location ID                 object                     12314\n",
            "Offer Status                object                         0\n",
            "product_type                object                      2005\n",
            "product_scent               object                     47500\n",
            "product_size                object                      7981\n",
            "Unique Description          object                         0\n",
            "Description Length           int64                         0\n",
            "Unified IN                  object                         0\n",
            "Subcategory                 object                      2592\n",
            "With Offer                   int64                         0\n",
            "Day                 datetime64[ns]                         0\n",
            "Month                        int64                         0\n",
            "Year                         int64                         0\n"
          ]
        }
      ]
    },
    {
      "cell_type": "code",
      "source": [
        "# Statistical summary\n",
        "statistical_summary = df.describe(include='all', datetime_is_numeric=True)\n",
        "print(statistical_summary)"
      ],
      "metadata": {
        "id": "8kvkqblOVOqo"
      },
      "execution_count": null,
      "outputs": []
    },
    {
      "cell_type": "code",
      "source": [
        "# Aggregate data by date\n",
        "daily_data = df.groupby(df['Document Date'].dt.date)['QTY'].sum().reset_index()"
      ],
      "metadata": {
        "id": "amReH3DAVjdd"
      },
      "execution_count": 7,
      "outputs": []
    },
    {
      "cell_type": "code",
      "source": [
        "import pandas as pd\n",
        "\n",
        "# Assuming daily_data is your DataFrame\n",
        "\n",
        "# Convert 'Document Date' to datetime format\n",
        "daily_data['Document Date'] = pd.to_datetime(daily_data['Document Date'], errors='coerce')\n",
        "\n",
        "# Now you can extract the day, month, and year\n",
        "daily_data['Day'] = daily_data['Document Date'].dt.day\n",
        "daily_data['Month'] = daily_data['Document Date'].dt.month\n",
        "daily_data['Year'] = daily_data['Document Date'].dt.year\n",
        "\n",
        "# Verify the changes\n",
        "print(daily_data[['Document Date', 'Day', 'Month', 'Year']].head())\n"
      ],
      "metadata": {
        "colab": {
          "base_uri": "https://localhost:8080/"
        },
        "id": "TmjdI2YPVoUY",
        "outputId": "69a9064f-83c5-4b7f-fef2-017821ed82ea"
      },
      "execution_count": 12,
      "outputs": [
        {
          "output_type": "stream",
          "name": "stdout",
          "text": [
            "  Document Date  Day  Month  Year\n",
            "0    2020-01-02    2      1  2020\n",
            "1    2020-01-03    3      1  2020\n",
            "2    2020-01-04    4      1  2020\n",
            "3    2020-01-06    6      1  2020\n",
            "4    2020-01-07    7      1  2020\n"
          ]
        }
      ]
    },
    {
      "cell_type": "code",
      "source": [
        "# Group by 'product_type' and sum 'QTY'\n",
        "product_type_qty = df.groupby('product_type')['QTY'].sum().reset_index()\n",
        "\n",
        "# Sort the results for better readability (optional)\n",
        "product_type_qty = product_type_qty.sort_values(by='QTY', ascending=False)\n",
        "\n",
        "# Display the result\n",
        "print(product_type_qty)\n"
      ],
      "metadata": {
        "colab": {
          "base_uri": "https://localhost:8080/"
        },
        "id": "Js9uuwvfdPIV",
        "outputId": "dff47a64-dfdf-4e35-b7ec-3e2735ef0d95"
      },
      "execution_count": 13,
      "outputs": [
        {
          "output_type": "stream",
          "name": "stdout",
          "text": [
            "         product_type     QTY\n",
            "184           shampoo  646744\n",
            "66        dishwashing  335826\n",
            "130       laundry gel  110892\n",
            "88    general cleaner   81867\n",
            "118         hand soap   64482\n",
            "..                ...     ...\n",
            "81   fascinelle spray       1\n",
            "134      lith clipper       1\n",
            "132              lift       1\n",
            "39              brush       1\n",
            "46             coffee       1\n",
            "\n",
            "[226 rows x 2 columns]\n"
          ]
        }
      ]
    },
    {
      "cell_type": "code",
      "source": [
        "import pandas as pd\n",
        "\n",
        "# Assuming data is your DataFrame\n",
        "\n",
        "# Calculate total sales per product\n",
        "total_sales_per_product = df.groupby('product_type')['Extended Price'].sum().reset_index()\n",
        "\n",
        "# Calculate total sales of all products\n",
        "total_sales_all_products = total_sales_per_product['Extended Price'].sum()\n",
        "\n",
        "# Calculate proportion of each product's sales\n",
        "total_sales_per_product['Sales Proportion'] = total_sales_per_product['Extended Price'] / total_sales_all_products\n",
        "\n",
        "# Sort the results by 'Extended Price' in descending order\n",
        "total_sales_per_product = total_sales_per_product.sort_values(by='Extended Price', ascending=False)\n",
        "\n",
        "# Display the result\n",
        "print(total_sales_per_product.head(15))\n"
      ],
      "metadata": {
        "colab": {
          "base_uri": "https://localhost:8080/"
        },
        "id": "aoB7OMI1vXKm",
        "outputId": "4d719b49-cb2e-43c9-dece-5777d59aca99"
      },
      "execution_count": 14,
      "outputs": [
        {
          "output_type": "stream",
          "name": "stdout",
          "text": [
            "              product_type  Extended Price  Sales Proportion\n",
            "184                shampoo    1.497706e+07          0.464375\n",
            "66             dishwashing    6.338873e+06          0.196541\n",
            "130            laundry gel    3.240409e+06          0.100471\n",
            "88         general cleaner    1.456768e+06          0.045168\n",
            "118              hand soap    1.289726e+06          0.039989\n",
            "77          fabric softner    1.146069e+06          0.035535\n",
            "67            disinfectant    9.795285e+05          0.030371\n",
            "152      multi-use shampoo    7.068399e+05          0.021916\n",
            "83           floor cleaner    6.227723e+05          0.019310\n",
            "90           glass cleaner    1.625372e+05          0.005040\n",
            "188             shower gel    1.306650e+05          0.004051\n",
            "9    anti-dandruff shampoo    8.741831e+04          0.002710\n",
            "13              antiseptic    8.474707e+04          0.002628\n",
            "4                  alcohol    8.353710e+04          0.002590\n",
            "17            baby shampoo    7.019463e+04          0.002176\n"
          ]
        }
      ]
    },
    {
      "cell_type": "code",
      "source": [
        "import pandas as pd\n",
        "\n",
        "# Assuming data is your DataFrame\n",
        "\n",
        "# List of brands for which the product_scent should be 'Not Applicable'\n",
        "non_scent_brands = ['remington', 'wahl', 'babyliss', 'vitality']\n",
        "\n",
        "# Replace 'product_scent' with 'Not Applicable' for these brands\n",
        "df.loc[df['Brand'].str.lower().isin(non_scent_brands), 'product_scent'] = 'Not Applicable'\n",
        "\n",
        "# Display some of the data to verify the changes\n",
        "print(df[['Brand', 'product_scent']].head())\n"
      ],
      "metadata": {
        "colab": {
          "base_uri": "https://localhost:8080/"
        },
        "id": "jkVRq1LKxlWG",
        "outputId": "8393dc48-ef85-4ce9-e7d2-cafe8f2383bc"
      },
      "execution_count": 15,
      "outputs": [
        {
          "output_type": "stream",
          "name": "stdout",
          "text": [
            "        Brand   product_scent\n",
            "0   remington  Not Applicable\n",
            "42      style         w/argan\n",
            "1       style            kiwi\n",
            "2       style           peach\n",
            "3       style    sweet excape\n"
          ]
        }
      ]
    },
    {
      "cell_type": "code",
      "source": [
        "# Data types and missing values\n",
        "data_types_missing = df.dtypes.to_frame(name='Data Type').join(df.isnull().sum().rename('Missing Value Proportion'))\n",
        "print(data_types_missing)\n"
      ],
      "metadata": {
        "colab": {
          "base_uri": "https://localhost:8080/"
        },
        "id": "tATUDWO7zmuN",
        "outputId": "55bbd2b1-f1a5-43b6-f5e9-cee715c015a5"
      },
      "execution_count": 16,
      "outputs": [
        {
          "output_type": "stream",
          "name": "stdout",
          "text": [
            "                         Data Type  Missing Value Proportion\n",
            "Location                    object                     12363\n",
            "Brand                       object                         0\n",
            "SubBrand                    object                         0\n",
            "Category                    object                      2592\n",
            "SOP Number                  object                         0\n",
            "Item Number                 object                         0\n",
            "Item Description            object                         0\n",
            "QTY                          int64                         0\n",
            "Unit Price                 float64                         0\n",
            "Extended Price             float64                         0\n",
            "Customer Number             object                         0\n",
            "Document Date       datetime64[ns]                         0\n",
            "Location Code               object                         0\n",
            "Item Short Name             object                         0\n",
            "Customer Name               object                         0\n",
            "SOP Type                    object                         0\n",
            "Location ID                 object                     12314\n",
            "Offer Status                object                         0\n",
            "product_type                object                      2005\n",
            "product_scent               object                     46802\n",
            "product_size                object                      7981\n",
            "Unique Description          object                         0\n",
            "Description Length           int64                         0\n",
            "Unified IN                  object                         0\n",
            "Subcategory                 object                      2592\n",
            "With Offer                   int64                         0\n",
            "Day                 datetime64[ns]                         0\n",
            "Month                        int64                         0\n",
            "Year                         int64                         0\n"
          ]
        }
      ]
    },
    {
      "cell_type": "code",
      "source": [
        "import pandas as pd\n",
        "\n",
        "# Assuming df is your DataFrame\n",
        "\n",
        "# Filter to select rows where 'product_type' is 'shampoo' and 'product_scent' is null\n",
        "shampoo_with_null_scent = df[(df['product_type'] == 'shampoo') & (df['product_scent'].isnull())]\n",
        "\n",
        "# Get the count of these rows\n",
        "count_shampoo_with_null_scent = len(shampoo_with_null_scent)\n",
        "\n",
        "# Display the count\n",
        "print(\"Count of shampoo products with null scent:\", count_shampoo_with_null_scent)\n"
      ],
      "metadata": {
        "colab": {
          "base_uri": "https://localhost:8080/"
        },
        "id": "uxbHgIUrB3pA",
        "outputId": "3ccbbdd2-cf41-4c9b-f141-4811851d7468"
      },
      "execution_count": 17,
      "outputs": [
        {
          "output_type": "stream",
          "name": "stdout",
          "text": [
            "Count of shampoo products with null scent: 3717\n"
          ]
        }
      ]
    },
    {
      "cell_type": "code",
      "source": [
        "# Replace null values in 'product_scent' with 'Neutral' for 'shampoo' product_type\n",
        "df.loc[(df['product_type'] == 'shampoo') & (df['product_scent'].isnull()), 'product_scent'] = 'Neutral'\n",
        "\n",
        "# Verify the changes (optional)\n",
        "print(df[df['product_type'] == 'shampoo'][['product_type', 'product_scent']].head())"
      ],
      "metadata": {
        "colab": {
          "base_uri": "https://localhost:8080/"
        },
        "id": "SMslGniXB5Y9",
        "outputId": "9fd1d415-cc46-44f0-f616-fb704859ffa5"
      },
      "execution_count": 18,
      "outputs": [
        {
          "output_type": "stream",
          "name": "stdout",
          "text": [
            "   product_type product_scent\n",
            "8       shampoo       Neutral\n",
            "19      shampoo          rose\n",
            "13      shampoo          rose\n",
            "14      shampoo          rose\n",
            "20      shampoo          rose\n"
          ]
        }
      ]
    },
    {
      "cell_type": "code",
      "source": [
        "import pandas as pd\n",
        "\n",
        "# Assuming df is your DataFrame\n",
        "\n",
        "# Replace 'Item Number' with values from 'Unique IN'\n",
        "df['Item Number'] = df['Unified IN']\n",
        "\n",
        "# Drop the 'Unique IN' column\n",
        "df.drop(columns=['Unified IN'], inplace=True)\n",
        "\n",
        "# Drop columns with no variation\n",
        "for column in df.columns:\n",
        "    if df[column].nunique() == 1:\n",
        "        df.drop(columns=[column], inplace=True)"
      ],
      "metadata": {
        "id": "cOyck7gUGBUb"
      },
      "execution_count": 19,
      "outputs": []
    },
    {
      "cell_type": "code",
      "source": [
        "###########  Genral Cleaning   ############\n",
        "# Update 'With Offer' based on 'Item Description' containing '+' or '*'\n",
        "df['With Offer'] = df['Item Description'].apply(lambda x: 1 if ('+' in x or '*' in x) else 0)\n",
        "\n",
        "# Verify the changes (optional)\n",
        "print(df[['Item Description', 'With Offer']].head())"
      ],
      "metadata": {
        "colab": {
          "base_uri": "https://localhost:8080/"
        },
        "id": "kLigD79WGtwV",
        "outputId": "4e1ef6a0-37f6-4942-b5dc-09ad7ff219ca"
      },
      "execution_count": 20,
      "outputs": [
        {
          "output_type": "stream",
          "name": "stdout",
          "text": [
            "                        Item Description  With Offer\n",
            "0         rem s1a100 my stylist straight           0\n",
            "42        style serum w/argan oil  100ml           0\n",
            "1                   style mask kiwi 500g           0\n",
            "2           style shower gel peach 100ml           0\n",
            "3   style shower gel sweet excape 1000ml           0\n"
          ]
        }
      ]
    },
    {
      "cell_type": "code",
      "source": [
        "# Count the occurrences of each value in the 'With Offer' column\n",
        "offer_counts = df['With Offer'].value_counts()\n",
        "\n",
        "# Display the counts\n",
        "print(offer_counts)"
      ],
      "metadata": {
        "colab": {
          "base_uri": "https://localhost:8080/"
        },
        "id": "mQLyPbAGH28P",
        "outputId": "25ba52cc-6281-47e2-ba28-982608d6e153"
      },
      "execution_count": 21,
      "outputs": [
        {
          "output_type": "stream",
          "name": "stdout",
          "text": [
            "0    98460\n",
            "1     5119\n",
            "Name: With Offer, dtype: int64\n"
          ]
        }
      ]
    },
    {
      "cell_type": "code",
      "source": [
        "import pandas as pd\n",
        "import re\n",
        "\n",
        "# Assuming df is your DataFrame\n",
        "\n",
        "# Function to convert and standardize product size\n",
        "def standardize_product_size(size):\n",
        "    # Convert to string, handle None, and strip whitespace\n",
        "    size_str = str(size).strip() if size is not None else ''\n",
        "\n",
        "    # # Debug: Print the original size string\n",
        "    # print(\"Original:\", size_str)\n",
        "\n",
        "    # Extract numeric part and unit\n",
        "    numeric_part = re.sub('[^0-9.]', '', size_str)\n",
        "    unit = re.sub('[0-9.]', '', size_str).lower()\n",
        "\n",
        "    # Convert the numeric part to float\n",
        "    numeric_size = float(numeric_part) if numeric_part else 0\n",
        "\n",
        "    # Convert 'ml' or 'm' to liters\n",
        "    if 'ml' in unit or 'm' in unit:\n",
        "        result = f\"{numeric_size / 1000}L\"\n",
        "    elif 'l' in unit:\n",
        "        result = f\"{numeric_size}L\"\n",
        "    elif unit == '' and numeric_size > 9:\n",
        "        result = f\"{numeric_size / 1000}L\"\n",
        "    elif unit == '':\n",
        "        result = f\"{numeric_size}L\"\n",
        "    else:\n",
        "        result = f\"{numeric_size}{unit}\"\n",
        "\n",
        "    # # Debug: Print the final result\n",
        "    # print(\"Converted:\", result)\n",
        "\n",
        "    return result\n",
        "\n",
        "# Apply the function to the 'product_size' column\n",
        "df['product_size'] = df['product_size'].apply(standardize_product_size)\n",
        "\n",
        "# Verify the changes\n",
        "print(df[['Item Description', 'product_size']].iloc(45))\n"
      ],
      "metadata": {
        "colab": {
          "base_uri": "https://localhost:8080/"
        },
        "id": "eoB50J52IsqZ",
        "outputId": "2c0d4eec-949d-4253-9b51-51438bd26de9"
      },
      "execution_count": 25,
      "outputs": [
        {
          "output_type": "stream",
          "name": "stdout",
          "text": [
            "                         Item Description product_size\n",
            "0          rem s1a100 my stylist straight       0.0nan\n",
            "42         style serum w/argan oil  100ml         0.1L\n",
            "1                    style mask kiwi 500g       500.0g\n",
            "2            style shower gel peach 100ml         0.1L\n",
            "3    style shower gel sweet excape 1000ml         1.0L\n",
            "5                 hawai oxidant 10v 266ml       0.266L\n",
            "6                            pure alcohol       0.0nan\n",
            "7                          keplex 4 100ml         0.1L\n",
            "8                style shampoo detox 80ml        0.08L\n",
            "10                style oxydant 30v 55 ml       0.055L\n",
            "19                 x-pert shampoo rose 6l         6.0L\n",
            "11   foamy multi-use shampoo apple 5100ml         5.1L\n",
            "12   foamy multi-use shampoo apple 5100ml         5.1L\n",
            "13                 x-pert shampoo rose 6l         6.0L\n",
            "14                 x-pert shampoo rose 6l         6.0L\n",
            "15                  foamy dishwash 6000ml         6.0L\n",
            "16                  foamy dishwash 6000ml         6.0L\n",
            "17           foamy general cleaner 6000ml         6.0L\n",
            "9          style serum w/argan oil  100ml         0.1L\n",
            "20                 x-pert shampoo rose 6l         6.0L\n",
            "4          style blondy mircale hight lig       0.0nan\n",
            "22   foamy multi-use shampoo apple 5100ml         5.1L\n",
            "23                  foamy dishwash 6000ml         6.0L\n",
            "31             style 10 color cream 100ml         0.1L\n",
            "24                  foamy dishwash 6000ml         6.0L\n",
            "25           foamy general cleaner 6000ml         6.0L\n",
            "26           foamy general cleaner 6000ml         6.0L\n",
            "28              style 1 color cream 100ml         0.1L\n",
            "29           style 7.35 color cream 100ml         0.1L\n",
            "30            style 7.3 color cream 100ml         0.1L\n",
            "18           foamy general cleaner 6000ml         6.0L\n",
            "38            keplex silver shampoo 500ml         0.5L\n",
            "33         gent styling gel strong hold 1         1.0L\n",
            "34  gent after shave balm&cologne 1000 ml         1.0L\n",
            "35  adhesive remover for extension 100 ml         0.1L\n",
            "36         reflet argent gris nacre shamp       0.0nan\n",
            "37         wahl wdetailer trim08081-916 5         5.0L\n",
            "40                style oxydant 30v 55 ml       0.055L\n",
            "39            keplex foam metallic silver       0.0nan\n",
            "21   foamy multi-use shampoo apple 5100ml         5.1L\n",
            "32           style 6.52 color cream 100ml         0.1L\n",
            "41                  marvelisse mask 600ml         0.6L\n",
            "27         style blondy mircale hight lig       0.0nan\n",
            "43         style bone marrow conditioning       0.0nan\n",
            "62         style shampoo m.islands 2250ml        2.25L\n"
          ]
        }
      ]
    },
    {
      "cell_type": "code",
      "source": [
        "# Filter the DataFrame to show records where 'product_size' is '20L'\n",
        "filtered_records = df[df['product_size'] == '0.015L']\n",
        "\n",
        "# Display the filtered records\n",
        "print(filtered_records)\n"
      ],
      "metadata": {
        "colab": {
          "base_uri": "https://localhost:8080/"
        },
        "id": "HEerCHsiasSi",
        "outputId": "ea55e39f-0033-4086-c1f5-1187f17074eb"
      },
      "execution_count": 28,
      "outputs": [
        {
          "output_type": "stream",
          "name": "stdout",
          "text": [
            "     Location      Brand   SubBrand              Category         SOP Number  \\\n",
            "54      zone1      style      style  Beauty and Cosmetics  inv00000000005716   \n",
            "263     zone1      style      style  Beauty and Cosmetics  inv00000000005740   \n",
            "269     zone5      style      style  Beauty and Cosmetics  inv00000000005741   \n",
            "323     zone5      style      style  Beauty and Cosmetics  inv00000000005743   \n",
            "347     zone1      style      style  Beauty and Cosmetics  inv00000000005745   \n",
            "2452    zone1      style      style  Beauty and Cosmetics  inv00000000006003   \n",
            "3267    zone1      style      style  Beauty and Cosmetics  inv00000000006092   \n",
            "3525    zone1  remington  remington        Persnoal Care   inv00000000006141   \n",
            "3531    zone5  remington  remington        Persnoal Care   inv00000000006142   \n",
            "3536    zone5  remington  remington        Persnoal Care   inv00000000006143   \n",
            "3541    zone1  remington  remington        Persnoal Care   inv00000000006144   \n",
            "3551    zone1  remington  remington        Persnoal Care   inv00000000006146   \n",
            "3546    zone1  remington  remington        Persnoal Care   inv00000000006145   \n",
            "3556    zone1  remington  remington        Persnoal Care   inv00000000006147   \n",
            "3578    zone1  remington  remington        Persnoal Care   inv00000000006152   \n",
            "3584    zone1  remington  remington        Persnoal Care   inv00000000006153   \n",
            "3590    zone1  remington  remington        Persnoal Care   inv00000000006154   \n",
            "3602    zone5  remington  remington        Persnoal Care   inv00000000006157   \n",
            "3596    zone1  remington  remington        Persnoal Care   inv00000000006155   \n",
            "3610    zone1  remington  remington        Persnoal Care   inv00000000006159   \n",
            "3731    zone1  remington  remington        Persnoal Care   inv00000000006189   \n",
            "5327    zone1  remington  remington        Persnoal Care   inv00000000006608   \n",
            "5339    zone1  remington  remington        Persnoal Care   inv00000000006610   \n",
            "\n",
            "     Item Number              Item Description  QTY  Unit Price  \\\n",
            "54         67918      style lashes black 15 ml    6     5.99400   \n",
            "263        67918      style lashes black 15 ml    6     5.99400   \n",
            "269        67918      style lashes black 15 ml    7     5.99400   \n",
            "323        67918      style lashes black 15 ml    4     5.99400   \n",
            "347        67918      style lashes black 15 ml    8     5.99400   \n",
            "2452       67918      style lashes black 15 ml    4    15.43700   \n",
            "3267       67918      style lashes black 15 ml    4    15.43700   \n",
            "3525     1600386  rem s5525+rem d2400 offer 15    2    55.50000   \n",
            "3531     1600386  rem s5525+rem d2400 offer 15    2    55.50000   \n",
            "3536     1600386  rem s5525+rem d2400 offer 15    6    55.50000   \n",
            "3541     1600386  rem s5525+rem d2400 offer 15    6    55.47400   \n",
            "3551     1600386  rem s5525+rem d2400 offer 15   12    55.50000   \n",
            "3546     1600386  rem s5525+rem d2400 offer 15    6    55.50000   \n",
            "3556     1600386  rem s5525+rem d2400 offer 15   12    55.50000   \n",
            "3578     1600386  rem s5525+rem d2400 offer 15   12    55.77612   \n",
            "3584     1600386  rem s5525+rem d2400 offer 15    2    55.77612   \n",
            "3590     1600386  rem s5525+rem d2400 offer 15    6    55.77612   \n",
            "3602     1600386  rem s5525+rem d2400 offer 15    6    55.77612   \n",
            "3596     1600386  rem s5525+rem d2400 offer 15    6    55.74959   \n",
            "3610     1600386  rem s5525+rem d2400 offer 15    6    55.74959   \n",
            "3731     1600386  rem s5525+rem d2400 offer 15    2    80.39800   \n",
            "5327     1600386  rem s5525+rem d2400 offer 15   38    58.90547   \n",
            "5339     1600386  rem s5525+rem d2400 offer 15    5    87.56219   \n",
            "\n",
            "      Extended Price  ... Offer Status      product_type   product_scent  \\\n",
            "54          35.96400  ...     No Offer      lashes black             NaN   \n",
            "263         35.96400  ...     No Offer      lashes black             NaN   \n",
            "269         41.95800  ...     No Offer      lashes black             NaN   \n",
            "323         23.97600  ...     No Offer      lashes black             NaN   \n",
            "347         47.95200  ...     No Offer      lashes black             NaN   \n",
            "2452        61.74800  ...     No Offer      lashes black             NaN   \n",
            "3267        61.74800  ...     No Offer      lashes black             NaN   \n",
            "3525       111.00000  ...     No Offer  hair straightner  Not Applicable   \n",
            "3531       111.00000  ...     No Offer  hair straightner  Not Applicable   \n",
            "3536       333.00000  ...     No Offer  hair straightner  Not Applicable   \n",
            "3541       332.84200  ...     No Offer  hair straightner  Not Applicable   \n",
            "3551       666.00000  ...     No Offer  hair straightner  Not Applicable   \n",
            "3546       333.00000  ...     No Offer  hair straightner  Not Applicable   \n",
            "3556       666.00000  ...     No Offer  hair straightner  Not Applicable   \n",
            "3578       669.31343  ...     No Offer  hair straightner  Not Applicable   \n",
            "3584       111.55224  ...     No Offer  hair straightner  Not Applicable   \n",
            "3590       334.65672  ...     No Offer  hair straightner  Not Applicable   \n",
            "3602       334.65672  ...     No Offer  hair straightner  Not Applicable   \n",
            "3596       334.49751  ...     No Offer  hair straightner  Not Applicable   \n",
            "3610       334.49751  ...     No Offer  hair straightner  Not Applicable   \n",
            "3731       160.79600  ...     No Offer  hair straightner  Not Applicable   \n",
            "5327      2238.40796  ...     No Offer  hair straightner  Not Applicable   \n",
            "5339       437.81095  ...     No Offer  hair straightner  Not Applicable   \n",
            "\n",
            "     product_size Description Length  Subcategory With Offer        Day Month  \\\n",
            "54         0.015L                 24   Eye Makeup          0 2020-01-02     1   \n",
            "263        0.015L                 24   Eye Makeup          0 2020-01-06     1   \n",
            "269        0.015L                 24   Eye Makeup          0 2020-01-06     1   \n",
            "323        0.015L                 24   Eye Makeup          0 2020-01-06     1   \n",
            "347        0.015L                 24   Eye Makeup          0 2020-01-06     1   \n",
            "2452       0.015L                 24   Eye Makeup          0 2020-01-29     1   \n",
            "3267       0.015L                 24   Eye Makeup          0 2020-01-31     1   \n",
            "3525       0.015L                 28  Hair Tools           1 2020-02-07     2   \n",
            "3531       0.015L                 28  Hair Tools           1 2020-02-07     2   \n",
            "3536       0.015L                 28  Hair Tools           1 2020-02-07     2   \n",
            "3541       0.015L                 28  Hair Tools           1 2020-02-07     2   \n",
            "3551       0.015L                 28  Hair Tools           1 2020-02-07     2   \n",
            "3546       0.015L                 28  Hair Tools           1 2020-02-07     2   \n",
            "3556       0.015L                 28  Hair Tools           1 2020-02-08     2   \n",
            "3578       0.015L                 28  Hair Tools           1 2020-02-10     2   \n",
            "3584       0.015L                 28  Hair Tools           1 2020-02-10     2   \n",
            "3590       0.015L                 28  Hair Tools           1 2020-02-10     2   \n",
            "3602       0.015L                 28  Hair Tools           1 2020-02-10     2   \n",
            "3596       0.015L                 28  Hair Tools           1 2020-02-10     2   \n",
            "3610       0.015L                 28  Hair Tools           1 2020-02-10     2   \n",
            "3731       0.015L                 28  Hair Tools           1 2020-02-12     2   \n",
            "5327       0.015L                 28  Hair Tools           1 2020-03-12     3   \n",
            "5339       0.015L                 28  Hair Tools           1 2020-03-13     3   \n",
            "\n",
            "      Year  \n",
            "54    2020  \n",
            "263   2020  \n",
            "269   2020  \n",
            "323   2020  \n",
            "347   2020  \n",
            "2452  2020  \n",
            "3267  2020  \n",
            "3525  2020  \n",
            "3531  2020  \n",
            "3536  2020  \n",
            "3541  2020  \n",
            "3551  2020  \n",
            "3546  2020  \n",
            "3556  2020  \n",
            "3578  2020  \n",
            "3584  2020  \n",
            "3590  2020  \n",
            "3602  2020  \n",
            "3596  2020  \n",
            "3610  2020  \n",
            "3731  2020  \n",
            "5327  2020  \n",
            "5339  2020  \n",
            "\n",
            "[23 rows x 25 columns]\n"
          ]
        }
      ]
    },
    {
      "cell_type": "code",
      "source": [
        "standardize_product_size(\"20ml\")"
      ],
      "metadata": {
        "colab": {
          "base_uri": "https://localhost:8080/",
          "height": 35
        },
        "id": "P0hGor48V545",
        "outputId": "79a422f0-6230-45b7-9c4e-452df6091116"
      },
      "execution_count": 23,
      "outputs": [
        {
          "output_type": "execute_result",
          "data": {
            "text/plain": [
              "'0.02L'"
            ],
            "application/vnd.google.colaboratory.intrinsic+json": {
              "type": "string"
            }
          },
          "metadata": {},
          "execution_count": 23
        }
      ]
    },
    {
      "cell_type": "code",
      "source": [
        "import pandas as pd\n",
        "\n",
        "# Assuming df is your DataFrame\n",
        "\n",
        "# Select and display 'Item Description' and 'Product Size' columns\n",
        "item_size_description = df[['Item Description', 'product_size']]\n",
        "\n",
        "# Display the result\n",
        "print(item_size_description.head(30))  # Adjust the number as needed to see more or fewer rows"
      ],
      "metadata": {
        "colab": {
          "base_uri": "https://localhost:8080/"
        },
        "id": "Mh6WfyK_NoRe",
        "outputId": "9391b2fd-747a-4059-ab5d-685ec4bdd2c8"
      },
      "execution_count": 24,
      "outputs": [
        {
          "output_type": "stream",
          "name": "stdout",
          "text": [
            "                        Item Description product_size\n",
            "0         rem s1a100 my stylist straight         0nan\n",
            "42        style serum w/argan oil  100ml         0.1L\n",
            "1                   style mask kiwi 500g       500.0g\n",
            "2           style shower gel peach 100ml         0.1L\n",
            "3   style shower gel sweet excape 1000ml         1.0L\n",
            "5                hawai oxidant 10v 266ml       0.266L\n",
            "6                           pure alcohol         0nan\n",
            "7                         keplex 4 100ml         0.1L\n",
            "8               style shampoo detox 80ml        0.08L\n",
            "10               style oxydant 30v 55 ml       0.055L\n",
            "19                x-pert shampoo rose 6l         6.0L\n",
            "11  foamy multi-use shampoo apple 5100ml         5.1L\n",
            "12  foamy multi-use shampoo apple 5100ml         5.1L\n",
            "13                x-pert shampoo rose 6l         6.0L\n",
            "14                x-pert shampoo rose 6l         6.0L\n",
            "15                 foamy dishwash 6000ml         6.0L\n",
            "16                 foamy dishwash 6000ml         6.0L\n",
            "17          foamy general cleaner 6000ml         6.0L\n",
            "9         style serum w/argan oil  100ml         0.1L\n",
            "20                x-pert shampoo rose 6l         6.0L\n",
            "4         style blondy mircale hight lig         0nan\n",
            "22  foamy multi-use shampoo apple 5100ml         5.1L\n",
            "23                 foamy dishwash 6000ml         6.0L\n",
            "31            style 10 color cream 100ml         0.1L\n",
            "24                 foamy dishwash 6000ml         6.0L\n",
            "25          foamy general cleaner 6000ml         6.0L\n",
            "26          foamy general cleaner 6000ml         6.0L\n",
            "28             style 1 color cream 100ml         0.1L\n",
            "29          style 7.35 color cream 100ml         0.1L\n",
            "30           style 7.3 color cream 100ml         0.1L\n"
          ]
        }
      ]
    }
  ]
}