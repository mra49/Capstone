{
  "cells": [
    {
      "cell_type": "markdown",
      "metadata": {
        "id": "view-in-github",
        "colab_type": "text"
      },
      "source": [
        "<a href=\"https://colab.research.google.com/github/mra49/Capstone/blob/main/capstonePostUnifyingipynb.ipynb\" target=\"_parent\"><img src=\"https://colab.research.google.com/assets/colab-badge.svg\" alt=\"Open In Colab\"/></a>"
      ]
    },
    {
      "cell_type": "markdown",
      "metadata": {
        "id": "xtCX-kCzd_oZ"
      },
      "source": [
        "###3-4)product_type cleaning for remington brand"
      ]
    },
    {
      "cell_type": "code",
      "execution_count": 70,
      "metadata": {
        "id": "XajrfqEu309J"
      },
      "outputs": [],
      "source": [
        "import pandas as pd\n",
        "import numpy as np"
      ]
    },
    {
      "cell_type": "code",
      "execution_count": 71,
      "metadata": {
        "colab": {
          "base_uri": "https://localhost:8080/"
        },
        "id": "jJAbVJtdxE2B",
        "outputId": "d980e533-eec9-4d4e-8494-45332718e2f2"
      },
      "outputs": [
        {
          "output_type": "stream",
          "name": "stderr",
          "text": [
            "<ipython-input-71-caa7c61e0865>:1: DtypeWarning: Columns (5,23) have mixed types. Specify dtype option on import or set low_memory=False.\n",
            "  df = pd.read_csv(\"/content/drive/MyDrive/data/checkpoint_before_spaCy_eval.csv\")\n"
          ]
        }
      ],
      "source": [
        "df = pd.read_csv(\"/content/drive/MyDrive/data/checkpoint_before_spaCy_eval.csv\")"
      ]
    },
    {
      "cell_type": "code",
      "execution_count": 72,
      "metadata": {
        "id": "3eQMQXiZ3_Cu"
      },
      "outputs": [],
      "source": [
        "df_rem = pd.read_csv(\"/content/drive/MyDrive/data/df_brand_remington dictionary.csv\")"
      ]
    },
    {
      "cell_type": "code",
      "execution_count": 73,
      "metadata": {
        "colab": {
          "base_uri": "https://localhost:8080/"
        },
        "id": "kL8R6gT2Ubgw",
        "outputId": "aef6c9fb-90ef-459d-90a5-66e3ea3a6c34"
      },
      "outputs": [
        {
          "output_type": "execute_result",
          "data": {
            "text/plain": [
              "Index(['Item Number', 'Item Description', 'Brand', 'remington_codes',\n",
              "       'product_type'],\n",
              "      dtype='object')"
            ]
          },
          "metadata": {},
          "execution_count": 73
        }
      ],
      "source": [
        "df_rem.columns"
      ]
    },
    {
      "cell_type": "code",
      "execution_count": 74,
      "metadata": {
        "id": "nS0wj9rB6jVS"
      },
      "outputs": [],
      "source": [
        "# Filter df_rem for rows where the brand is 'Remington'\n",
        "remington_df_rem = df_rem[df_rem['Brand'].str.lower() == 'remington']\n",
        "\n",
        "# Create a dictionary mapping Item Number to product_type for Remington items\n",
        "remington_product_type_dict = pd.Series(remington_df_rem['product_type'].values,\n",
        "                                        index=remington_df_rem['Item Number']).to_dict()\n",
        "item_dict = remington_product_type_dict"
      ]
    },
    {
      "cell_type": "code",
      "execution_count": 75,
      "metadata": {
        "colab": {
          "base_uri": "https://localhost:8080/"
        },
        "id": "FBFLKpZrGV4L",
        "outputId": "efdd8e19-511e-4612-bda8-128765170525"
      },
      "outputs": [
        {
          "output_type": "stream",
          "name": "stdout",
          "text": [
            "{'1604509': 'Hair Straightner', '3326558': 'women shaver ', '1602944': 'Hair Straightner', '1602739': 'Hair Dryer', '334302': 'men shaver ', '1602746': 'Hair Dryer', '165015': 'Stylist', '168015': 'Hair Curler', '356772': 'Women Shaver', '168012': 'Hair Straightner', '1604503': 'Hair Curler', '3326527': 'Men Shaver', '168014': 'Hair Curler', '1602722': 'Hair Dryer', '1602753': 'Hair Dryer', '3514123': 'Women Shaver', '3304471': 'Men Shaver', '1604502': 'Hair Curler', '356771': 'Nail kit', '334286': 'Men Shaver ', '1623819': 'stylist', '1637700': 'Hair Straightner', '168009': 'Hair Dryer', '3346104': 'Women Shaver', '120035': 'hair brush ', '3342907': 'Men Shaver', '1604501': 'Hair Curler', '1623826': 'Hair Curler', '168001': 'Hair Dryer', '3300122': 'Men Shaver', '334022': 'Men Shaver', '33184': 'Men Shaver', '3300124': 'Men Shaver', '3300125': 'Men Shaver', '3300126': 'Men Shaver', '168959': 'Hair Straightner', '1602723': 'Hair Straightner', '1690668': 'Hair Straightner', '1647271': 'Hair Straightner', '16185': 'Hair Straightner', '1602724': 'Hair Straighner', '1602968': 'hair straightner ', '3326510': 'men shaver ', '3524322': 'women shaver ', '3564325': 'women shaver ', '352310': 'women shaver ', '3326571': 'men shaver ', '334289': 'men shaver ', '352311': 'facial care ', '3346105': 'women shaver ', '1604507': 'brush ', '3564332': 'women shaver ', '165012': 'hair dryer ', '168013': 'hair straightner ', '1637687': 'hair curler ', '1600382': 'hair curler ', '1600383': 'hair straightner ', '1600385': 'hair straightner ', '1600386': 'hair straightner ', '1685125': 'hair curler ', '1600381': 'men shaver ', '165007': 'hair dryer ', '3564356': 'women shaver ', '1600392': 'hair dryer ', '3304495': 'men shaver ', '1685127': 'hair straightner ', '1603576': 'hair curler '}\n"
          ]
        }
      ],
      "source": [
        "print(remington_product_type_dict)"
      ]
    },
    {
      "cell_type": "code",
      "execution_count": 76,
      "metadata": {
        "id": "U05DK6xmV817"
      },
      "outputs": [],
      "source": [
        "item_dict = {str(key): value for key, value in item_dict.items()}\n",
        "\n",
        "# Load or define your DataFrame 'df'\n",
        "# df = pd.read_csv('your_file.csv') or continue with your existing DataFrame\n",
        "\n",
        "# Ensure the 'Item Number' column is of string type\n",
        "df['Item Number'] = df['Item Number'].astype(str)\n",
        "\n",
        "# Optional: Strip any leading/trailing spaces\n",
        "df['Item Number'] = df['Item Number'].str.strip()\n",
        "\n",
        "# Create a mask for rows where Item Number is in the dictionary\n",
        "mask = df['Item Number'].isin(item_dict.keys())\n",
        "\n",
        "# Apply the mapping only to rows where the mask is True\n",
        "df.loc[mask, 'product_type'] = df.loc[mask, 'Item Number'].map(item_dict)"
      ]
    },
    {
      "cell_type": "code",
      "execution_count": 77,
      "metadata": {
        "colab": {
          "base_uri": "https://localhost:8080/"
        },
        "id": "8b9U8OKE_WqQ",
        "outputId": "08f4a9ad-48d0-4534-c0c0-a70910d7a3ac"
      },
      "outputs": [
        {
          "output_type": "stream",
          "name": "stdout",
          "text": [
            "  Item Number      product_type\n",
            "0     1604509  Hair Straightner\n",
            "1       56240              mask\n",
            "2       56938        shower gel\n",
            "3       56960        shower gel\n",
            "4       57332               NaN\n"
          ]
        }
      ],
      "source": [
        "# Assuming df is your original DataFrame and it's already loaded\n",
        "\n",
        "# Filter df for rows where the brand is 'Remington' and select only 'Item Number' and 'product_type'\n",
        "df_check = df[['Item Number', 'product_type']]\n",
        "\n",
        "# Display the first few rows of df_check\n",
        "print(df_check.head())\n",
        "df_check.to_csv(\"check_remsPT.csv\", index = False)"
      ]
    },
    {
      "cell_type": "code",
      "execution_count": 78,
      "metadata": {
        "id": "kQFTFKI8dKPs"
      },
      "outputs": [],
      "source": [
        "df.to_csv(\"df\", index = False)"
      ]
    },
    {
      "cell_type": "markdown",
      "metadata": {
        "id": "c66RYIgYjzLc"
      },
      "source": [
        "###3-5)Clean Brand product_type Category and Subcategory"
      ]
    },
    {
      "cell_type": "code",
      "execution_count": 79,
      "metadata": {
        "id": "-0LQQu8Lmdgs"
      },
      "outputs": [],
      "source": [
        "# Rename the column\n",
        "df.rename(columns={'Unified Description': 'Unified IN'}, inplace=True)"
      ]
    },
    {
      "cell_type": "markdown",
      "metadata": {
        "id": "h4-XcYJDeouO"
      },
      "source": [
        "####3-5.1)quick Brand Cleaning"
      ]
    },
    {
      "cell_type": "code",
      "execution_count": 80,
      "metadata": {
        "id": "Isdjy7EegT1l"
      },
      "outputs": [],
      "source": [
        "df['Brand'] = df['Brand'].replace('cleannet', 'clean net')\n",
        "\n",
        "to_replace_brand = {\n",
        "    \"Keplex\": [\"semi prmnnt\", \"shampoo\",\"keplex\"],\n",
        "    \"babyliss\" : [\"electrical\"],\n",
        "    \"reflet argin\": [\"reflet arg\"],\n",
        "    \"vitality\": [\"tubes\"],\n",
        "    \"k.keratin\": [\"conditioner\",\"keratine\", \"coloration\"]\n",
        "\n",
        "}\n",
        "# Replace values in 'Brand',\n",
        "for new_value, old_values in to_replace_brand.items():\n",
        "    df['Brand'].replace(old_values, new_value, inplace=True)"
      ]
    },
    {
      "cell_type": "code",
      "execution_count": 81,
      "metadata": {
        "id": "LjC3b7XX5lWU"
      },
      "outputs": [],
      "source": [
        "import pandas as pd\n",
        "\n",
        "# Assuming your DataFrame is named df and is already loaded\n",
        "\n",
        "# Function to update the Brand based on Item Description\n",
        "def update_brand(row):\n",
        "    if row['Item Description'].lower().startswith('wahl'):\n",
        "        return 'wahl'\n",
        "    return row['Brand']\n",
        "\n",
        "# Apply the function to each row\n",
        "df['Brand'] = df.apply(update_brand, axis=1)\n",
        "\n",
        "# Now df will have the 'Brand' updated to 'wahl' where the Item Description starts with 'wahl'\n"
      ]
    },
    {
      "cell_type": "code",
      "execution_count": 82,
      "metadata": {
        "id": "8mwnULq3elru",
        "colab": {
          "base_uri": "https://localhost:8080/"
        },
        "outputId": "54b8a707-30ab-4e2d-b086-9d5e320da964"
      },
      "outputs": [
        {
          "output_type": "stream",
          "name": "stdout",
          "text": [
            "style           42013\n",
            "foamy           38922\n",
            "clean net       12448\n",
            "hawai            8768\n",
            "remington         517\n",
            "Keplex            151\n",
            "wahl              110\n",
            "k.keratin         109\n",
            "vitality           90\n",
            "reflet argin       84\n",
            "treatment          70\n",
            "babyliss           60\n",
            "justformen         35\n",
            "marvelisse         16\n",
            "gl/cr/serum        14\n",
            "elect stra         14\n",
            "straightnr         11\n",
            "cover spray        11\n",
            "make-up            11\n",
            "shaver mchn        10\n",
            "oxydant             9\n",
            "onemon col          9\n",
            "men section         9\n",
            "serum               8\n",
            "mim                 6\n",
            "wellness            6\n",
            "curling mac         6\n",
            "caviarine           5\n",
            "h.accessor          5\n",
            "wax                 4\n",
            "scissors            4\n",
            "promo item          4\n",
            "h.r.machine         4\n",
            "hairdrs bag         3\n",
            "face care           3\n",
            "promotion           3\n",
            "mask/oil            3\n",
            "fresheners          3\n",
            "promo               2\n",
            "wax machine         2\n",
            "combs               2\n",
            "rmvl paste          2\n",
            "h.extension         2\n",
            "glowy               2\n",
            "gent                1\n",
            "krys-krtn           1\n",
            "r.m.(b)             1\n",
            "shaving imp         1\n",
            "loufa               1\n",
            "zero                1\n",
            "mantenance          1\n",
            "h.clipper           1\n",
            "idm/fixedas         1\n",
            "Name: Brand, dtype: int64\n"
          ]
        }
      ],
      "source": [
        "# Count the occurrences of each unique value in the 'Brand' column\n",
        "brand_counts = df['Brand'].value_counts()\n",
        "\n",
        "# Display the counts\n",
        "print(brand_counts)"
      ]
    },
    {
      "cell_type": "code",
      "execution_count": 82,
      "metadata": {
        "id": "qXgHmyop11lh"
      },
      "outputs": [],
      "source": []
    },
    {
      "cell_type": "markdown",
      "metadata": {
        "id": "t9raeY9CMVNU"
      },
      "source": [
        "####3.5-2)product_type cleaning"
      ]
    },
    {
      "cell_type": "code",
      "execution_count": 83,
      "metadata": {
        "id": "X9LUigwCMb9z"
      },
      "outputs": [],
      "source": [
        "import pandas as pd\n",
        "\n",
        "# Load your DataFrame 'df'\n",
        "\n",
        "# List of specific product types to replace with 'shampoo'\n",
        "to_replace = [\n",
        "    \"shampoo\", \"sh.\", \"sh\", \"shampo\", \"shampoo1.125l*2\",\n",
        "    \"shanpoo\", \"shamp\", \"sham\", \"sh.gallon\", \"sh/gel\",\n",
        "    \"shamp.meridian\", \"sha.\"\n",
        "]\n",
        "\n",
        "# Replace each instance in 'product_type' with 'shampoo'\n",
        "df['product_type'] = df['product_type'].replace(to_replace, 'shampoo')"
      ]
    },
    {
      "cell_type": "code",
      "execution_count": 84,
      "metadata": {
        "id": "Y5n5EHWaY2C5"
      },
      "outputs": [],
      "source": [
        "#dishwashing\n",
        "to_replace = [\n",
        "    \"dishwash\", \"dishwashing liquid\",\"dishwashing\",\"dishwasing\",\"dishwash+hand soap\"\n",
        "]\n",
        "# Replace each instance in 'product_type' with 'shampoo'\n",
        "df['product_type'] = df['product_type'].replace(to_replace, 'dishwashing')\n",
        "\n",
        "\n",
        "#laundry\n",
        "to_replace = [\n",
        "    \"laundry\", \"laundry power\", \"laundry gel\"\n",
        "]\n",
        "df['product_type'] = df['product_type'].replace(to_replace, 'laundry gel')\n",
        "\n",
        "\n",
        "#fabric softner\n",
        "df['product_type'] = df['product_type'].replace('fabric siftner', 'fabric softner')\n",
        "\n",
        "\n",
        "#hand soap\n",
        "to_replace = [\n",
        "    \"hnd sop\", \"hnd sp\",\"hndsoap\",\"1l*2+hand soap\",\"handsoap\"\n",
        "]\n",
        "df['product_type'] = df['product_type'].replace(to_replace, 'hand soap')\n",
        "\n",
        "\n",
        "#shower gel\n",
        "df['product_type'] = df['product_type'].replace(\"showergel\", 'shower gel')\n",
        "\n",
        "\n",
        "#fabric softner\n",
        "df['product_type'] = df['product_type'].replace(\"fabric softener\", 'fabric softner')\n",
        "\n",
        "replacement_dict = {\n",
        "    \"bathroom cleaner\": [\"bathroom cleaner+sur\", \"bathroom cleaning\", \"antibacterial bathro\"],\n",
        "    \"toilet cleaner\": [\"toilet gel cleaner\"],\n",
        "    \"alcohol\": [\"alcohol spray\", \"pure alcohol\"],\n",
        "    \"oxidant\": [\"oxydant\"],\n",
        "    \"flash\": [\"flush\"],\n",
        "    \"disinfectant\": [\"disinfectant cleaner\", \"bowl disinfectant\"],\n",
        "    \"hair conditioner\": [\"conditioner\", \"bone marrow conditioning\", \"anti-oxidant conditioner\", \"conditioning mask\",\n",
        "                        \"shampoo &conditioner\", \"bone marrow conditioning mask\", \"straightening conditioner\",\n",
        "                        \"collagen conditioner\", \"salon conditioner\", \"anti-oxidant conditi\", \"cond\", \"cond mask\"],\n",
        "    \"hair remover\": [\"r.was\", \"wax\", \"hair remov\"],\n",
        "    \"thinning scissors\" : [\"thng.scrs\"],\n",
        "    \"developer cream\" : [\"dev.cream\"],\n",
        "    \"hair dye\": [\"vitality hair dye\"],\n",
        "    \"keratin\": [\"keratin serum\", \"keratine collagen\",\"k.keratine collagen\"],\n",
        "    \"glass cleaner\" : [\"hostpital\"],\n",
        "    \"lice remover\" : [\"cream\"]\n",
        "}\n",
        "\n",
        "df['product_type'] = df['product_type'].replace(\"cream\", 'lice remover')\n",
        "# Replace values in 'product_type'\n",
        "for new_value, old_values in replacement_dict.items():\n",
        "    df['product_type'].replace(old_values, new_value, inplace=True)"
      ]
    },
    {
      "cell_type": "markdown",
      "metadata": {
        "id": "UEkvb8gOXXvU"
      },
      "source": [
        "####3.5-3) create Category and Subcategory Columns in df"
      ]
    },
    {
      "cell_type": "code",
      "execution_count": 85,
      "metadata": {
        "id": "gZeIharR-3qe"
      },
      "outputs": [],
      "source": [
        "df['product_type'] = df['product_type'].str.lower().str.strip()"
      ]
    },
    {
      "cell_type": "code",
      "execution_count": 86,
      "metadata": {
        "id": "1qFhvVuthDTh",
        "colab": {
          "base_uri": "https://localhost:8080/"
        },
        "outputId": "d062b389-42b5-4b96-e957-c1c886db3238"
      },
      "outputs": [
        {
          "output_type": "stream",
          "name": "stdout",
          "text": [
            "shampoo             45354\n",
            "dishwashing         19656\n",
            "laundry gel          7048\n",
            "general cleaner      4678\n",
            "hand soap            4421\n",
            "                    ...  \n",
            "housing comple          1\n",
            "fascinelle spray        1\n",
            "anti-oxidant            1\n",
            "lith clipper            1\n",
            "cooling spray           1\n",
            "Name: product_type, Length: 226, dtype: int64\n"
          ]
        }
      ],
      "source": [
        "#check\n",
        "# Convert the 'product_type' column to lowercase\n",
        "df['product_type'] = df['product_type'].str.lower()\n",
        "\n",
        "# Count the occurrences of each unique value in the 'Brand' column\n",
        "type_counts = df['product_type'].value_counts()\n",
        "\n",
        "# Display the counts\n",
        "df_productDistnCounts = type_counts.to_csv(\"df_product_check.csv\")\n",
        "print(type_counts)"
      ]
    },
    {
      "cell_type": "markdown",
      "metadata": {
        "id": "1GmzfmrIHE_1"
      },
      "source": [
        "we used df_productDistnCounts to create the dictionary by manually assigning distinct product types a category and subcategory. Its not the ideal approach but its the best course of action given the immense accuracy and work put into the cleaning process so far."
      ]
    },
    {
      "cell_type": "code",
      "execution_count": 87,
      "metadata": {
        "id": "kbjFxFN91ChC"
      },
      "outputs": [],
      "source": [
        "df_PT_dict = pd.read_csv(\"/content/drive/MyDrive/Capstone/df_type_dict.csv\")\n",
        "\n",
        "# Convert all values in 'product_type' column to lowercase and strip leading/trailing spaces\n",
        "df_PT_dict['product_type'] = df_PT_dict['product_type'].str.lower().str.strip()\n",
        "df_PT_dict['product_type'] = df_PT_dict['product_type'].replace(\"keratine collagen\", \"keratin\")\n",
        "df_PT_dict['product_type'] = df_PT_dict['product_type'].replace(\"thng. scrs\", \"thinning scissors\")\n",
        "\n",
        "#Category\n",
        "df_PT_dict['Category '] = df_PT_dict['Category '].replace(\"Persnoal Care\", \"Personal Care\")\n",
        "\n",
        "###\n",
        "replacement_dict = {\n",
        "    \"Personal Care\" : [\"Persnoal Care\", \"Personal Care or Household Cleaning\", \"Beauty and Cosmetics or Health\", \"Personal Care or Art Supplies\"],\n",
        "    \"Others\": [\"Pet Supplies\", \"Hardware or Industrial\", \"Personal Care or Health\", \"Industrial or Household\", \"Stationery or Education\", \"Electronics or Construction\"]\n",
        "\n",
        "}\n",
        "\n",
        "# Replace values in 'product_type'\n",
        "for new_value, old_values in replacement_dict.items():\n",
        "    df_PT_dict['Category '].replace(old_values, new_value, inplace=True)\n"
      ]
    },
    {
      "cell_type": "code",
      "execution_count": 88,
      "metadata": {
        "id": "DbXFj71E05kH",
        "colab": {
          "base_uri": "https://localhost:8080/"
        },
        "outputId": "5c78ea6f-05d4-484d-b95a-d64cc4cdbcc2"
      },
      "outputs": [
        {
          "output_type": "stream",
          "name": "stdout",
          "text": [
            "Product types in df_PT_dict not present in df:\n",
            "thinning scissors\n"
          ]
        }
      ],
      "source": [
        "# Get unique product_type values from df_PT_dict\n",
        "unique_product_types_df_PT_dict = set(df_PT_dict['product_type'].unique())\n",
        "\n",
        "# Get unique product_type values from df\n",
        "unique_product_types_df = set(df['product_type'].unique())\n",
        "\n",
        "# Find product_type values in df_PT_dict not present in df\n",
        "product_types_not_in_df = unique_product_types_df_PT_dict - unique_product_types_df\n",
        "\n",
        "# Print the product types not present in df\n",
        "print(\"Product types in df_PT_dict not present in df:\")\n",
        "for product_type in product_types_not_in_df:\n",
        "    print(product_type)\n"
      ]
    },
    {
      "cell_type": "code",
      "execution_count": 89,
      "metadata": {
        "id": "LMiNRtgOSAlZ"
      },
      "outputs": [],
      "source": [
        "import pandas as pd\n",
        "\n",
        "# Assuming df and df_PT_dict are already loaded\n",
        "\n",
        "# Create mappings for Category and Subcategory from df_PT_dict\n",
        "category_mapping = df_PT_dict.set_index('product_type')['Category '].to_dict()\n",
        "subcategory_mapping = df_PT_dict.set_index('product_type')['Subcategory '].to_dict()\n",
        "\n",
        "# Map the values to df\n",
        "df['Category'] = df['product_type'].map(category_mapping)\n",
        "df['Subcategory'] = df['product_type'].map(subcategory_mapping)\n"
      ]
    },
    {
      "cell_type": "code",
      "execution_count": 90,
      "metadata": {
        "id": "9J212ZnsLZxr"
      },
      "outputs": [],
      "source": [
        "########## very important check point  ############\n",
        "df.to_csv(\"df_postUnify_PreRFM.csv\", index = False)"
      ]
    },
    {
      "cell_type": "markdown",
      "metadata": {
        "id": "9BeSuFFYIC9w"
      },
      "source": [
        "make sure that no product_type value is not present in the dictionary to avoid any faults in the data"
      ]
    },
    {
      "cell_type": "markdown",
      "metadata": {
        "id": "Cnio4r870rx2"
      },
      "source": [
        "###3.6) Extra Cleaning (Location)"
      ]
    },
    {
      "cell_type": "markdown",
      "metadata": {
        "id": "lVqXpmg-E34-"
      },
      "source": [
        "do we add admin to intercompany"
      ]
    },
    {
      "cell_type": "code",
      "execution_count": 91,
      "metadata": {
        "id": "fcQxG5nzAMAL",
        "colab": {
          "base_uri": "https://localhost:8080/"
        },
        "outputId": "b676038d-a42c-4597-d5bb-b94e0e6cf4dd"
      },
      "outputs": [
        {
          "output_type": "stream",
          "name": "stdout",
          "text": [
            "<built-in method sum of numpy.ndarray object at 0x7f7d74f929d0>\n",
            "Unique Location IDs:\n",
            "['slska1' 'intercompany' 'slssth2' 'sprvsrsth' 'sprvsrbek' 'slsbek2'\n",
            " 'slsptc02m2' 'admin' 'slssbr' 'slsdbs' 'slsbrt' 'salons' 'slsmtn'\n",
            " 'pharmacies' 'export' 'slsmtn-ksn' 'sprvsrnor' 'slsksn-jbl' 'SLSSBR'\n",
            " 'SLSBRT' nan]\n"
          ]
        }
      ],
      "source": [
        "import pandas as pd\n",
        "\n",
        "# Assuming your DataFrame is named df and it's already loaded\n",
        "\n",
        "# Get unique values from the 'Location ID' column\n",
        "unique_location_ids = df['Location ID'].unique()\n",
        "print(unique_location_ids.sum)\n",
        "# Print the unique values\n",
        "print(\"Unique Location IDs:\")\n",
        "print(unique_location_ids)"
      ]
    },
    {
      "cell_type": "code",
      "execution_count": 92,
      "metadata": {
        "id": "w8pwJeTS-iAR"
      },
      "outputs": [],
      "source": [
        "location_dic = {\n",
        "    \"all branches\" : [\"Slska1\"],\n",
        "    \"South\" : [\"slssth2\"],\n",
        "    \"North\" : [\"sprvsrnor\"],\n",
        "    \"Baalbek-Hermel\": [\"slsbek2\"],\n",
        "    \"Beirut\" : [\"slsbrt\",\"SLSBRT\"],\n",
        "    \"Beqaa\" : [\"sprvsrbek\",],\n",
        "    \"Kesrwen-Jbeil\" : [\"slsmtn-ksn\",\"slsksn-jbl\",\"slsmtn\"],\n",
        "    \"Mount Lebanon\": [\"slssbr\", \"SLSSBR\"],\n",
        "    \"Nabatieh\" : [\"sprvsrsth\"],\n",
        "    \"intercompany\" : [\"slsptc02m2\"]\n",
        "}\n",
        "for new_value, old_values in location_dic.items():\n",
        "    df['Location ID'].replace(old_values, new_value, inplace=True)"
      ]
    },
    {
      "cell_type": "code",
      "execution_count": 93,
      "metadata": {
        "id": "OyaZ4J0HEb00",
        "colab": {
          "base_uri": "https://localhost:8080/"
        },
        "outputId": "080b44d4-08ca-4e1e-8fb6-2025ea0b46ec"
      },
      "outputs": [
        {
          "output_type": "stream",
          "name": "stdout",
          "text": [
            "There are 15 distinct items.\n"
          ]
        }
      ],
      "source": [
        "import pandas as pd\n",
        "\n",
        "# Assuming your DataFrame is named df and it's already loaded\n",
        "\n",
        "# Count the number of distinct items\n",
        "distinct_Locations = df['Location ID'].nunique()\n",
        "\n",
        "# Print the count of distinct items\n",
        "print(f\"There are {distinct_Locations} distinct items.\")\n"
      ]
    },
    {
      "cell_type": "markdown",
      "metadata": {
        "id": "ooucBMfPGrIa"
      },
      "source": [
        "###3.7) Extra columns"
      ]
    },
    {
      "cell_type": "code",
      "execution_count": 94,
      "metadata": {
        "id": "HHEtzjd2GC4P",
        "colab": {
          "base_uri": "https://localhost:8080/"
        },
        "outputId": "1c36516e-bf4c-4e82-97ff-d6aafe3e4318"
      },
      "outputs": [
        {
          "output_type": "stream",
          "name": "stdout",
          "text": [
            "Number of items with offers: 3342\n",
            "Number of items without offers: 100237\n"
          ]
        }
      ],
      "source": [
        "import pandas as pd\n",
        "\n",
        "# Assuming your DataFrame is named df and it's already loaded\n",
        "\n",
        "# Function to check for a plus sign in the item description\n",
        "def check_offer(description):\n",
        "    return 1 if '+' in description else 0\n",
        "\n",
        "# Apply the function to create the 'With Offer' column\n",
        "df['With Offer'] = df['Item Description'].apply(check_offer)\n",
        "\n",
        "# Count the number of items with and without offers\n",
        "offer_counts = df['With Offer'].value_counts()\n",
        "\n",
        "# Print the counts\n",
        "print(\"Number of items with offers:\", offer_counts.get(1, 0))\n",
        "print(\"Number of items without offers:\", offer_counts.get(0, 0))\n"
      ]
    },
    {
      "cell_type": "code",
      "execution_count": 95,
      "metadata": {
        "id": "b8TV9BQVKmMt"
      },
      "outputs": [],
      "source": [
        "import pandas as pd\n",
        "\n",
        "# Assuming your DataFrame is named df and it's already loaded\n",
        "\n",
        "# Convert 'Document Date' to datetime if it's not already\n",
        "df['Document Date'] = pd.to_datetime(df['Document Date'])\n",
        "\n",
        "# Extract day, month, and year\n",
        "df['Day'] = df['Document Date'].dt.day\n",
        "df['Month'] = df['Document Date'].dt.month\n",
        "df['Year'] = df['Document Date'].dt.year\n",
        "\n",
        "# Now df will have new columns 'Day', 'Month', and 'Year'\n"
      ]
    },
    {
      "cell_type": "code",
      "execution_count": 96,
      "metadata": {
        "id": "7Q1lN8stKt_C",
        "colab": {
          "base_uri": "https://localhost:8080/"
        },
        "outputId": "a3230b3c-296f-4024-fc56-8e8f53d58971"
      },
      "outputs": [
        {
          "output_type": "stream",
          "name": "stdout",
          "text": [
            "Document Date    2020-02-27 00:00:00\n",
            "Day                               27\n",
            "Month                              2\n",
            "Year                            2020\n",
            "Name: 4459, dtype: object\n"
          ]
        }
      ],
      "source": [
        "print(df[['Document Date', 'Day', 'Month', 'Year']].iloc[4459]) #working well"
      ]
    },
    {
      "cell_type": "markdown",
      "source": [
        "###3.8) Customer Names Cleaning"
      ],
      "metadata": {
        "id": "zOHAD5GqmWcs"
      }
    },
    {
      "cell_type": "markdown",
      "metadata": {
        "id": "VVmsnqlrFrvU"
      },
      "source": [
        "##RFM Analysis"
      ]
    },
    {
      "cell_type": "markdown",
      "metadata": {
        "id": "LCi5oNeXFwEA"
      },
      "source": []
    },
    {
      "cell_type": "code",
      "execution_count": 97,
      "metadata": {
        "id": "stvNfMqEIIiv"
      },
      "outputs": [],
      "source": [
        "# create a dataset solely for working on RFM analysis\n",
        "df_rfm = df"
      ]
    },
    {
      "cell_type": "code",
      "source": [
        "#here we're going to remove ID's own retailers\n",
        "import pandas as pd\n",
        "\n",
        "# Define your multiple conditions\n",
        "customer_names = ['customers cash/wtc03', 'customers cash/', 'customers cash_']\n",
        "location_ids = ['intercompany', 'admin', 'slsdbs', 'slsptc02m2']\n",
        "\n",
        "\n",
        "# Filter df_frm based on these conditions\n",
        "condition = df_rfm['Customer Name'].isin(customer_names) | df_rfm['Location ID'].isin(location_ids)\n",
        "filtered_df = df_rfm[condition]\n",
        "\n",
        "# Create list of unique customer numbers\n",
        "unique_customer_numbers = filtered_df['Customer Number'].unique()\n",
        "\n",
        "# Drop these customers from df_rfm\n",
        "df_rfm = df_rfm[~df_rfm['Customer Number'].isin(unique_customer_numbers)]\n"
      ],
      "metadata": {
        "id": "gxLXWD6rmbgy"
      },
      "execution_count": 98,
      "outputs": []
    },
    {
      "cell_type": "code",
      "execution_count": 99,
      "metadata": {
        "id": "wGP8biQFFw0Q",
        "colab": {
          "base_uri": "https://localhost:8080/"
        },
        "outputId": "4c677a66-c892-4f3f-f47c-359e76b02423"
      },
      "outputs": [
        {
          "output_type": "stream",
          "name": "stdout",
          "text": [
            "                   Item Description  Total Extended Price\n",
            "72            foamy dishwash 6000ml          2.172554e+06\n",
            "102      foamy laundry power gel 5l          2.154178e+06\n",
            "181  style apple blossom sh. 4000ml          1.300975e+06\n",
            "226  style shampoo cool ocean 4000m          1.218185e+06\n",
            "91     foamy general cleaner 6000ml          1.196581e+06\n"
          ]
        }
      ],
      "source": [
        "import pandas as pd\n",
        "\n",
        "# Assuming your DataFrame is named df and it's already loaded\n",
        "\n",
        "# Group by 'Item Description' and sum the 'Extended Price'\n",
        "grouped_data = df_rfm.groupby('Item Description')['Extended Price'].sum().reset_index()\n",
        "\n",
        "# Rename the columns for clarity\n",
        "grouped_data.columns = ['Item Description', 'Total Extended Price']\n",
        "\n",
        "#sort data\n",
        "sorted_data = grouped_data.sort_values(by='Total Extended Price', ascending=False)\n",
        "\n",
        "# Output the result\n",
        "print(sorted_data.head())\n"
      ]
    },
    {
      "cell_type": "code",
      "execution_count": 100,
      "metadata": {
        "id": "__Bmh_gOdwUd",
        "colab": {
          "base_uri": "https://localhost:8080/"
        },
        "outputId": "3b82fb2d-df54-4d26-c9a2-a2d0095f0531"
      },
      "outputs": [
        {
          "output_type": "stream",
          "name": "stdout",
          "text": [
            "  Customer Number  Recency  Frequency   Monetary\n",
            "0      000c001843      931          3    887.013\n",
            "1      000c002061      263         10  22773.877\n",
            "2      000c002093      127         10   4362.490\n",
            "3      000c002097       98         15  13162.803\n",
            "4      000c002129        9          4   2541.310\n"
          ]
        },
        {
          "output_type": "stream",
          "name": "stderr",
          "text": [
            "<ipython-input-100-501992d6add2>:9: SettingWithCopyWarning: \n",
            "A value is trying to be set on a copy of a slice from a DataFrame.\n",
            "Try using .loc[row_indexer,col_indexer] = value instead\n",
            "\n",
            "See the caveats in the documentation: https://pandas.pydata.org/pandas-docs/stable/user_guide/indexing.html#returning-a-view-versus-a-copy\n",
            "  df_rfm['Document Date'] = pd.to_datetime(df_rfm['Document Date'])\n"
          ]
        }
      ],
      "source": [
        "####### calculating the R F and M for our Customers  ###########\n",
        "import pandas as pd\n",
        "from datetime import datetime\n",
        "\n",
        "# Assuming your DataFrame is named df_rfm and it's already loaded\n",
        "# Also, assuming 'Document Date' is in a standard date format like 'YYYY-MM-DD'\n",
        "\n",
        "# Convert 'Document Date' to datetime\n",
        "df_rfm['Document Date'] = pd.to_datetime(df_rfm['Document Date'])\n",
        "\n",
        "# Determine your analysis date - typically one day after your latest date in the dataset\n",
        "latest_date = df_rfm['Document Date'].max() + pd.Timedelta(days = 1)\n",
        "\n",
        "# Calculate Recency (days since last purchase)\n",
        "recency = df_rfm.groupby('Customer Number')['Document Date'].max()\n",
        "recency = (latest_date - recency).dt.days\n",
        "recency = recency.reset_index()\n",
        "recency.columns = ['Customer Number', 'Recency']\n",
        "\n",
        "#Calculate Frequency (number of unique invoices per customer)\n",
        "frequency = df_rfm.groupby('Customer Number')['SOP Number'].nunique()\n",
        "frequency = frequency.reset_index()\n",
        "frequency.columns = ['Customer Number', 'Frequency']\n",
        "\n",
        "# Calculate Monetary (total money spent)\n",
        "monetary = df_rfm.groupby('Customer Number')['Extended Price'].sum()  # Replace 'Extended Price' with your monetary column name\n",
        "monetary = monetary.reset_index()\n",
        "monetary.columns = ['Customer Number', 'Monetary']\n",
        "\n",
        "# Merge the recency, frequency, and monetary dataframes\n",
        "df_rfm_segment = pd.merge(recency, frequency, on='Customer Number')\n",
        "df_rfm_segment = pd.merge(df_rfm_segment, monetary, on='Customer Number')\n",
        "\n",
        "# Display the first few rows of the RFM table\n",
        "print(df_rfm_segment.head())\n"
      ]
    },
    {
      "cell_type": "code",
      "source": [
        "# Assuming df_rfm_segment is your DataFrame with columns 'Customer Number' and 'Frequency'\n",
        "\n",
        "# Group by 'Customer Number' and calculate the sum of frequency for each customer\n",
        "customer_frequency = df_rfm_segment.groupby('Customer Number')['Frequency'].sum()\n",
        "\n",
        "# Convert the series to a DataFrame and reset the index\n",
        "customer_frequency_df = customer_frequency.reset_index()\n",
        "\n",
        "# Rename columns for clarity\n",
        "customer_frequency_df.columns = ['Customer Number', 'Frequency Score']\n",
        "\n",
        "# Sort the DataFrame by 'Frequency Score' in descending order\n",
        "customer_frequency_df = customer_frequency_df.sort_values(by='Frequency Score', ascending=False)\n",
        "\n",
        "# Display the resulting DataFrame\n",
        "print(customer_frequency_df.head())\n"
      ],
      "metadata": {
        "colab": {
          "base_uri": "https://localhost:8080/"
        },
        "id": "MeglAnO9CD5p",
        "outputId": "6d924b40-1975-43b4-a638-41bad5e115ce"
      },
      "execution_count": 101,
      "outputs": [
        {
          "output_type": "stream",
          "name": "stdout",
          "text": [
            "    Customer Number  Frequency Score\n",
            "414      000c025095              472\n",
            "121      000c015149               80\n",
            "423      000c025213               70\n",
            "73       000c009919               61\n",
            "702      000c040310               61\n"
          ]
        }
      ]
    },
    {
      "cell_type": "code",
      "source": [
        "# Count the number of records in each bin for R_Score, F_Score, and M_Score\n",
        "r_score_counts = df_rfm_segment['R_Score'].value_counts().sort_index()\n",
        "f_score_counts = df_rfm_segment['F_Score'].value_counts().sort_index()\n",
        "m_score_counts = df_rfm_segment['M_Score'].value_counts().sort_index()\n",
        "\n",
        "# Print the counts\n",
        "print(\"Recency Score Counts:\\n\", r_score_counts)\n",
        "print(\"\\nFrequency Score Counts:\\n\", f_score_counts)\n",
        "print(\"\\nMonetary Score Counts:\\n\", m_score_counts)"
      ],
      "metadata": {
        "colab": {
          "base_uri": "https://localhost:8080/"
        },
        "id": "_TsCyRpzDlET",
        "outputId": "0dd9f2a3-994d-4172-a672-e146d8c5fae5"
      },
      "execution_count": 105,
      "outputs": [
        {
          "output_type": "stream",
          "name": "stdout",
          "text": [
            "Recency Score Counts:\n",
            " 5    314\n",
            "4    309\n",
            "3    312\n",
            "2    311\n",
            "1    310\n",
            "Name: R_Score, dtype: int64\n",
            "\n",
            "Frequency Score Counts:\n",
            " 1    506\n",
            "2    339\n",
            "3    312\n",
            "4    230\n",
            "5    169\n",
            "Name: F_Score, dtype: int64\n",
            "\n",
            "Monetary Score Counts:\n",
            " 1    312\n",
            "2    311\n",
            "3    311\n",
            "4    311\n",
            "5    311\n",
            "Name: M_Score, dtype: int64\n"
          ]
        }
      ]
    },
    {
      "cell_type": "code",
      "source": [
        "# Define custom bins for Frequency based on business logic\n",
        "bins = [0, 2, 6, 12, 20, df_rfm_segment['Frequency'].max()]\n",
        "labels = [1, 2, 3, 4, 5]\n",
        "\n",
        "# Assign the Frequency scores based on the bins\n",
        "df_rfm_segment['F_Score'] = pd.cut(df_rfm_segment['Frequency'], bins=bins, labels=labels)\n",
        "\n",
        "\n",
        "# Recency Binning with qcut\n",
        "# Note: For Recency, lower values are better, so we reverse the labels\n",
        "df_rfm_segment['R_Score'] = pd.qcut(df_rfm_segment['Recency'], 5, labels=[5, 4, 3, 2, 1], duplicates='drop')\n",
        "\n",
        "# Monetary Binning with qcut\n",
        "df_rfm_segment['M_Score'] = pd.qcut(df_rfm_segment['Monetary'], 5, labels=[1, 2, 3, 4, 5], duplicates='drop')\n"
      ],
      "metadata": {
        "id": "GlXLbbw-clbF"
      },
      "execution_count": 102,
      "outputs": []
    },
    {
      "cell_type": "code",
      "source": [
        "# Create a combined RFM score\n",
        "df_rfm_segment['RFM_Score'] = df_rfm_segment['R_Score'].astype(str) + df_rfm_segment['F_Score'].astype(str) + df_rfm_segment['M_Score'].astype(str)\n",
        "\n",
        "# Apply the segmentation function\n",
        "df_rfm_segment['Segment'] = df_rfm_segment['RFM_Score'].apply(rfm_segment)\n",
        "\n",
        "# Verify the result\n",
        "print(df_rfm_segment[['Customer Number', 'RFM_Score', 'Segment']].head())\n"
      ],
      "metadata": {
        "colab": {
          "base_uri": "https://localhost:8080/"
        },
        "id": "FTykfiPfC_Bm",
        "outputId": "91e9196f-7ffb-4faf-a8bc-813046d79df8"
      },
      "execution_count": 103,
      "outputs": [
        {
          "output_type": "stream",
          "name": "stdout",
          "text": [
            "  Customer Number RFM_Score              Segment\n",
            "0      000c001843       122       Need Attention\n",
            "1      000c002061       335       About To Sleep\n",
            "2      000c002093       333       About To Sleep\n",
            "3      000c002097       444            Champions\n",
            "4      000c002129       522  Potential Loyalists\n"
          ]
        }
      ]
    },
    {
      "cell_type": "code",
      "source": [
        "def rfm_segment(rfm_score):\n",
        "    r, f, m = rfm_score\n",
        "    if r >= '4' and f >= '4' and m >= '4':  # High value in all three areas\n",
        "        return 'Champions'\n",
        "    elif f >= '4' and m >= '3':  # Consistently high frequency & good monetary value\n",
        "        return 'Loyal Customers'\n",
        "    elif r >= '4' and f >= '2' and m >= '2':  # Newer customers with balanced frequency & monetary value\n",
        "        return 'Potential Loyalists'\n",
        "    elif r >= '4':  # Recent customers but lower frequency and monetary value\n",
        "        return 'New Customers'\n",
        "    elif r <= '2' and f >= '3' and m >= '3':  # Once regular but haven't purchased recently\n",
        "        return 'At Risk'\n",
        "    elif r <= '2' and f <= '2' and m <= '2':  # Lower recency, frequency, and monetary values\n",
        "        return 'Need Attention'\n",
        "    else:  # Low in all three areas\n",
        "        return 'About To Sleep'\n",
        "\n",
        "# Apply the segmentation function\n",
        "df_rfm_segment['Segment'] = df_rfm_segment['RFM_Score'].apply(rfm_segment)\n",
        "\n",
        "# Verify the results\n",
        "print(df_rfm_segment[['Customer Number', 'RFM_Score', 'Segment']].head())\n"
      ],
      "metadata": {
        "colab": {
          "base_uri": "https://localhost:8080/"
        },
        "id": "_X3bA1ygCwGV",
        "outputId": "3fe24aa5-a0e1-4b61-989d-cddcd250755a"
      },
      "execution_count": 104,
      "outputs": [
        {
          "output_type": "stream",
          "name": "stdout",
          "text": [
            "  Customer Number RFM_Score              Segment\n",
            "0      000c001843       122       Need Attention\n",
            "1      000c002061       335       About To Sleep\n",
            "2      000c002093       333       About To Sleep\n",
            "3      000c002097       444            Champions\n",
            "4      000c002129       522  Potential Loyalists\n"
          ]
        }
      ]
    },
    {
      "cell_type": "code",
      "source": [
        "# Count the number of customers in each RFM segment\n",
        "segment_distribution = df_rfm_segment['Segment'].value_counts()\n",
        "\n",
        "# Display the distribution\n",
        "print(segment_distribution)\n"
      ],
      "metadata": {
        "colab": {
          "base_uri": "https://localhost:8080/"
        },
        "id": "RowtoHesPkQr",
        "outputId": "ebdea67d-195c-48ce-9a63-ae4b6d67e6d6"
      },
      "execution_count": 108,
      "outputs": [
        {
          "output_type": "stream",
          "name": "stdout",
          "text": [
            "About To Sleep         384\n",
            "Need Attention         280\n",
            "Champions              232\n",
            "Potential Loyalists    212\n",
            "Loyal Customers        167\n",
            "New Customers          167\n",
            "At Risk                114\n",
            "Name: Segment, dtype: int64\n"
          ]
        }
      ]
    },
    {
      "cell_type": "code",
      "source": [
        "import matplotlib.pyplot as plt\n",
        "import seaborn as sns\n",
        "\n",
        "# Set the aesthetic style of the plots\n",
        "sns.set(style=\"whitegrid\")\n",
        "\n",
        "# Create a figure with subplots\n",
        "fig, axes = plt.subplots(1, 3, figsize=(18, 6))\n",
        "\n",
        "# Plot for Recency Score Counts\n",
        "sns.barplot(x=r_score_counts.index, y=r_score_counts.values, ax=axes[0])\n",
        "axes[0].set_title('Recency Score Distribution')\n",
        "axes[0].set_xlabel('R_Score')\n",
        "axes[0].set_ylabel('Count')\n",
        "\n",
        "# Plot for Frequency Score Counts\n",
        "sns.barplot(x=f_score_counts.index, y=f_score_counts.values, ax=axes[1])\n",
        "axes[1].set_title('Frequency Score Distribution')\n",
        "axes[1].set_xlabel('F_Score')\n",
        "axes[1].set_ylabel('Count')\n",
        "\n",
        "# Plot for Monetary Score Counts\n",
        "sns.barplot(x=m_score_counts.index, y=m_score_counts.values, ax=axes[2])\n",
        "axes[2].set_title('Monetary Score Distribution')\n",
        "axes[2].set_xlabel('M_Score')\n",
        "axes[2].set_ylabel('Count')\n",
        "\n",
        "# Show the plots\n",
        "plt.tight_layout()\n",
        "plt.show()"
      ],
      "metadata": {
        "colab": {
          "base_uri": "https://localhost:8080/",
          "height": 326
        },
        "id": "-Bp1EP_gDcKk",
        "outputId": "551e7ed1-d3e0-4ccc-d1db-1f7b16fca5cc"
      },
      "execution_count": 109,
      "outputs": [
        {
          "output_type": "display_data",
          "data": {
            "text/plain": [
              "<Figure size 1800x600 with 3 Axes>"
            ],
            "image/png": "[encoded data removed]"
          },
          "metadata": {}
        }
      ]
    },
    {
      "cell_type": "markdown",
      "source": [
        "##Totally different Story"
      ],
      "metadata": {
        "id": "f0AdKUH_W0Yy"
      }
    },
    {
      "cell_type": "code",
      "source": [
        "df_rfm.head()"
      ],
      "metadata": {
        "id": "X_DbsSB5UqAr"
      },
      "execution_count": null,
      "outputs": []
    },
    {
      "cell_type": "code",
      "source": [
        "# import pandas as pd\n",
        "\n",
        "# # Load your original DataFrame\n",
        "# df_invoice = df_rfm\n",
        "\n",
        "# # Group by 'SOP Number' and aggregate\n",
        "# invoice_df = df_invoice.groupby('SOP Number').agg({\n",
        "#     'Item Number': pd.Series.nunique,\n",
        "#     'Category': pd.Series.nunique,\n",
        "#     'Extended Price': 'sum',\n",
        "#     'QTY': 'sum',\n",
        "#     'Customer Number': 'first'  # Assuming each invoice has exactly one customer\n",
        "# }).rename(columns={\n",
        "#     'Item Number': 'Product Variety',\n",
        "#     'Category': 'Category Variety',\n",
        "#     'Extended Price': 'Total Extended Price',\n",
        "#     'QTY': 'Total QTY'\n",
        "# })\n",
        "\n",
        "# # Calculate Percentage Offered\n",
        "# invoice_df['Percentage Offered'] = df_invoice[df_invoice['Offer Status'] == 'Offer'].groupby('SOP Number')['QTY'].sum() / invoice_df['Total QTY']\n",
        "\n",
        "# # # Calculate RFM values for each Customer Number\n",
        "# # rfm_values = df_rfm[['Customer Number', 'Recency', 'Frequency', 'Monetary']]\n",
        "# # invoice_df = invoice_df.merge(rfm_values, how='left', left_on='Customer Number', right_on='Customer Number')\n",
        "\n",
        "# # Fill NaN values in 'Percentage Offered' with 0 (for invoices with no offers)\n",
        "# invoice_df['Percentage Offered'].fillna(0, inplace=True)\n",
        "\n",
        "# # Save the aggregated data to a CSV\n",
        "# invoice_df.to_csv('invoice.csv', index=False)\n",
        "\n",
        "# print(\"Aggregated invoice data saved to 'invoice.csv'.\")\n"
      ],
      "metadata": {
        "id": "hjvNdiewUdha"
      },
      "execution_count": null,
      "outputs": []
    },
    {
      "cell_type": "code",
      "source": [
        "import pandas as pd\n",
        "\n",
        "# Load your original DataFrame\n",
        "df_invoice = df_rfm\n",
        "\n",
        "# Group by 'SOP Number' and aggregate\n",
        "invoice_df = df_invoice.groupby('SOP Number').agg({\n",
        "    'Item Number': pd.Series.nunique,\n",
        "    'Category': pd.Series.nunique,\n",
        "    'Subcategory': pd.Series.nunique,  # Assuming 'SubCategory' exists in df_rfm\n",
        "    'Extended Price': 'sum',\n",
        "    'QTY': 'sum',\n",
        "    'Customer Number': 'first',  # Assuming each invoice has exactly one customer\n",
        "    'Document Date': 'first',  # Date of the invoice\n",
        "    'Location ID': 'first',  # Location of the invoice\n",
        "    'SOP Number' : 'first'\n",
        "}).rename(columns={\n",
        "    'Item Number': 'Product Variety',\n",
        "    'Category': 'Category Variety',\n",
        "    'Subcategory': 'SubCategory Variety',\n",
        "    'Extended Price': 'Total Extended Price',\n",
        "    'QTY': 'Total QTY'\n",
        "})\n",
        "\n",
        "# Calculate Percentage Offered and Count of Distinct Offered Items\n",
        "offered_data = df_invoice[df_invoice['Offer Status'] == 'Offer'].groupby('SOP Number').agg({\n",
        "    'QTY': 'sum',\n",
        "    'Item Number': pd.Series.nunique\n",
        "}).rename(columns={\n",
        "    'Item Number': 'Distinct Offered Items'\n",
        "})\n",
        "\n",
        "invoice_df = invoice_df.merge(offered_data, how='left', left_index=True, right_index=True)\n",
        "invoice_df['Percentage Offered'] = invoice_df['QTY'] / invoice_df['Total QTY']\n",
        "invoice_df.drop(columns='QTY', inplace=True)  # Remove the extra 'QTY' column\n",
        "\n",
        "# Fill NaN values with appropriate defaults\n",
        "invoice_df['Percentage Offered'].fillna(0, inplace=True)\n",
        "invoice_df['Distinct Offered Items'].fillna(0, inplace=True)\n",
        "\n",
        "# Save the aggregated data to a CSV\n",
        "invoice_df.to_csv('invoice.csv', index=False)\n",
        "\n",
        "print(\"Aggregated invoice data saved to 'invoice.csv'.\")\n"
      ],
      "metadata": {
        "id": "XKfpMvsnzhKL"
      },
      "execution_count": null,
      "outputs": []
    },
    {
      "cell_type": "code",
      "source": [
        "import pandas as pd\n",
        "\n",
        "# Ensure 'Document Date' is a datetime\n",
        "df_invoice['Document Date'] = pd.to_datetime(df_invoice['Document Date'])\n",
        "\n",
        "# Sort by 'Document Date'\n",
        "df_invoice.sort_values(by='Document Date', inplace=True)\n",
        "\n",
        "# Function to calculate RFM values for a customer up to a given date\n",
        "def calculate_rfm_up_to_date(customer_number, invoice_date, df):\n",
        "    # Filter records for the customer up to the invoice date\n",
        "    customer_data = df[(df['Customer Number'] == customer_number) &\n",
        "                       (df['Document Date'] < invoice_date)]\n",
        "\n",
        "    # Calculate Recency\n",
        "    last_purchase = customer_data['Document Date'].max()\n",
        "    recency = (invoice_date - last_purchase).days if last_purchase else None\n",
        "\n",
        "    # Calculate Frequency\n",
        "    frequency = customer_data['SOP Number'].nunique()\n",
        "\n",
        "    # Calculate Monetary\n",
        "    monetary = customer_data['Extended Price'].sum()\n",
        "\n",
        "    return recency, frequency, monetary\n",
        "\n",
        "# Apply the function to each row in the invoice DataFrame\n",
        "invoice_df['Invoice_R'] = None\n",
        "invoice_df['Invoice_F'] = None\n",
        "invoice_df['Invoice_M'] = None\n",
        "\n",
        "for index, row in invoice_df.iterrows():\n",
        "    r, f, m = calculate_rfm_up_to_date(row['Customer Number'], row['Document Date'], df_invoice)\n",
        "    invoice_df.at[index, 'Invoice_R'] = r\n",
        "    invoice_df.at[index, 'Invoice_F'] = f\n",
        "    invoice_df.at[index, 'Invoice_M'] = m\n",
        "\n",
        "# Save the updated invoice data\n",
        "invoice_df.to_csv('invoice_with_rfm.csv', index=False)\n"
      ],
      "metadata": {
        "id": "3cZf-upe-Eqj"
      },
      "execution_count": null,
      "outputs": []
    },
    {
      "cell_type": "markdown",
      "metadata": {
        "id": "ftEZOisduyns"
      },
      "source": [
        "##checking for lstm cleaning"
      ]
    },
    {
      "cell_type": "code",
      "execution_count": null,
      "metadata": {
        "id": "y8nXsYmX69e0"
      },
      "outputs": [],
      "source": [
        "df.isnull().sum()"
      ]
    },
    {
      "cell_type": "code",
      "execution_count": null,
      "metadata": {
        "id": "QFGUWuDD690S"
      },
      "outputs": [],
      "source": [
        "#fill na for product_scent\n",
        "df['product_scent'].fillna('neutral', inplace=True)"
      ]
    },
    {
      "cell_type": "code",
      "execution_count": null,
      "metadata": {
        "id": "YXMUYAFCG-x6"
      },
      "outputs": [],
      "source": [
        "import pandas as pd\n",
        "\n",
        "# Assuming df is your DataFrame\n",
        "# Replace this with your actual DataFrame loading or creation code\n",
        "\n",
        "# Filter the DataFrame for rows where 'Offer Status' is 'Yes'\n",
        "df_filtered = df[df['Offer Status'] == 'Offer']\n",
        "\n",
        "# Count the number of unique values in the 'Invoice' column\n",
        "unique_invoices_count = df_filtered['SOP Number'].nunique()\n",
        "\n",
        "print(f\"Number of unique invoices with 'Yes' in Offer Status: {unique_invoices_count}\")\n",
        "\n",
        "print((df[\"SOP Number\"]).nunique())"
      ]
    },
    {
      "cell_type": "code",
      "execution_count": null,
      "metadata": {
        "id": "4nf1XGwvHeJc"
      },
      "outputs": [],
      "source": []
    }
  ],
  "metadata": {
    "colab": {
      "collapsed_sections": [
        "ftEZOisduyns"
      ],
      "provenance": [],
      "mount_file_id": "1vpzckM82PxWgyidiTpWYC5X4ezAgnG5Z",
      "authorship_tag": "ABX9TyN/3E0P7jIw2xe6lH/1XQ73",
      "include_colab_link": true
    },
    "kernelspec": {
      "display_name": "Python 3",
      "name": "python3"
    },
    "language_info": {
      "name": "python"
    }
  },
  "nbformat": 4,
  "nbformat_minor": 0
}