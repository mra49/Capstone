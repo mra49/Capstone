{
  "cells": [
    {
      "cell_type": "markdown",
      "metadata": {
        "id": "view-in-github",
        "colab_type": "text"
      },
      "source": [
        "<a href=\"https://colab.research.google.com/github/mra49/Capstone/blob/main/capstonePostUnifyingipynb.ipynb\" target=\"_parent\"><img src=\"https://colab.research.google.com/assets/colab-badge.svg\" alt=\"Open In Colab\"/></a>"
      ]
    },
    {
      "cell_type": "markdown",
      "metadata": {
        "id": "xtCX-kCzd_oZ"
      },
      "source": [
        "###3-4)product_type cleaning for remington brand"
      ]
    },
    {
      "cell_type": "code",
      "execution_count": 131,
      "metadata": {
        "id": "XajrfqEu309J"
      },
      "outputs": [],
      "source": [
        "import pandas as pd\n",
        "import numpy as np"
      ]
    },
    {
      "cell_type": "code",
      "execution_count": 132,
      "metadata": {
        "colab": {
          "base_uri": "https://localhost:8080/"
        },
        "id": "jJAbVJtdxE2B",
        "outputId": "c28358ff-7dc6-49aa-80ac-4444333fbcdc"
      },
      "outputs": [
        {
          "output_type": "stream",
          "name": "stderr",
          "text": [
            "<ipython-input-132-caa7c61e0865>:1: DtypeWarning: Columns (5,23) have mixed types. Specify dtype option on import or set low_memory=False.\n",
            "  df = pd.read_csv(\"/content/drive/MyDrive/data/checkpoint_before_spaCy_eval.csv\")\n"
          ]
        }
      ],
      "source": [
        "df = pd.read_csv(\"/content/drive/MyDrive/data/checkpoint_before_spaCy_eval.csv\")"
      ]
    },
    {
      "cell_type": "code",
      "execution_count": 133,
      "metadata": {
        "id": "3eQMQXiZ3_Cu"
      },
      "outputs": [],
      "source": [
        "df_rem = pd.read_csv(\"/content/drive/MyDrive/data/df_brand_remington dictionary.csv\")"
      ]
    },
    {
      "cell_type": "code",
      "execution_count": 134,
      "metadata": {
        "colab": {
          "base_uri": "https://localhost:8080/"
        },
        "id": "kL8R6gT2Ubgw",
        "outputId": "24434a90-9794-4fcd-804a-08e4611b1f8f"
      },
      "outputs": [
        {
          "output_type": "execute_result",
          "data": {
            "text/plain": [
              "Index(['Item Number', 'Item Description', 'Brand', 'remington_codes',\n",
              "       'product_type'],\n",
              "      dtype='object')"
            ]
          },
          "metadata": {},
          "execution_count": 134
        }
      ],
      "source": [
        "df_rem.columns"
      ]
    },
    {
      "cell_type": "code",
      "execution_count": 135,
      "metadata": {
        "id": "nS0wj9rB6jVS"
      },
      "outputs": [],
      "source": [
        "# Filter df_rem for rows where the brand is 'Remington'\n",
        "remington_df_rem = df_rem[df_rem['Brand'].str.lower() == 'remington']\n",
        "\n",
        "# Create a dictionary mapping Item Number to product_type for Remington items\n",
        "remington_product_type_dict = pd.Series(remington_df_rem['product_type'].values,\n",
        "                                        index=remington_df_rem['Item Number']).to_dict()\n",
        "item_dict = remington_product_type_dict"
      ]
    },
    {
      "cell_type": "code",
      "execution_count": 136,
      "metadata": {
        "colab": {
          "base_uri": "https://localhost:8080/"
        },
        "id": "FBFLKpZrGV4L",
        "outputId": "b2e48d7b-785f-426e-c4dd-b82fbe2d1d9d"
      },
      "outputs": [
        {
          "output_type": "stream",
          "name": "stdout",
          "text": [
            "{'1604509': 'Hair Straightner', '3326558': 'women shaver ', '1602944': 'Hair Straightner', '1602739': 'Hair Dryer', '334302': 'men shaver ', '1602746': 'Hair Dryer', '165015': 'Stylist', '168015': 'Hair Curler', '356772': 'Women Shaver', '168012': 'Hair Straightner', '1604503': 'Hair Curler', '3326527': 'Men Shaver', '168014': 'Hair Curler', '1602722': 'Hair Dryer', '1602753': 'Hair Dryer', '3514123': 'Women Shaver', '3304471': 'Men Shaver', '1604502': 'Hair Curler', '356771': 'Nail kit', '334286': 'Men Shaver ', '1623819': 'stylist', '1637700': 'Hair Straightner', '168009': 'Hair Dryer', '3346104': 'Women Shaver', '120035': 'hair brush ', '3342907': 'Men Shaver', '1604501': 'Hair Curler', '1623826': 'Hair Curler', '168001': 'Hair Dryer', '3300122': 'Men Shaver', '334022': 'Men Shaver', '33184': 'Men Shaver', '3300124': 'Men Shaver', '3300125': 'Men Shaver', '3300126': 'Men Shaver', '168959': 'Hair Straightner', '1602723': 'Hair Straightner', '1690668': 'Hair Straightner', '1647271': 'Hair Straightner', '16185': 'Hair Straightner', '1602724': 'Hair Straighner', '1602968': 'hair straightner ', '3326510': 'men shaver ', '3524322': 'women shaver ', '3564325': 'women shaver ', '352310': 'women shaver ', '3326571': 'men shaver ', '334289': 'men shaver ', '352311': 'facial care ', '3346105': 'women shaver ', '1604507': 'brush ', '3564332': 'women shaver ', '165012': 'hair dryer ', '168013': 'hair straightner ', '1637687': 'hair curler ', '1600382': 'hair curler ', '1600383': 'hair straightner ', '1600385': 'hair straightner ', '1600386': 'hair straightner ', '1685125': 'hair curler ', '1600381': 'men shaver ', '165007': 'hair dryer ', '3564356': 'women shaver ', '1600392': 'hair dryer ', '3304495': 'men shaver ', '1685127': 'hair straightner ', '1603576': 'hair curler '}\n"
          ]
        }
      ],
      "source": [
        "print(remington_product_type_dict)"
      ]
    },
    {
      "cell_type": "code",
      "execution_count": 137,
      "metadata": {
        "id": "U05DK6xmV817"
      },
      "outputs": [],
      "source": [
        "item_dict = {str(key): value for key, value in item_dict.items()}\n",
        "\n",
        "# Load or define your DataFrame 'df'\n",
        "# df = pd.read_csv('your_file.csv') or continue with your existing DataFrame\n",
        "\n",
        "# Ensure the 'Item Number' column is of string type\n",
        "df['Item Number'] = df['Item Number'].astype(str)\n",
        "\n",
        "# Optional: Strip any leading/trailing spaces\n",
        "df['Item Number'] = df['Item Number'].str.strip()\n",
        "\n",
        "# Create a mask for rows where Item Number is in the dictionary\n",
        "mask = df['Item Number'].isin(item_dict.keys())\n",
        "\n",
        "# Apply the mapping only to rows where the mask is True\n",
        "df.loc[mask, 'product_type'] = df.loc[mask, 'Item Number'].map(item_dict)"
      ]
    },
    {
      "cell_type": "code",
      "execution_count": 138,
      "metadata": {
        "colab": {
          "base_uri": "https://localhost:8080/"
        },
        "id": "8b9U8OKE_WqQ",
        "outputId": "c237d7d9-627a-41e8-ae57-1026d6e51753"
      },
      "outputs": [
        {
          "output_type": "stream",
          "name": "stdout",
          "text": [
            "  Item Number      product_type\n",
            "0     1604509  Hair Straightner\n",
            "1       56240              mask\n",
            "2       56938        shower gel\n",
            "3       56960        shower gel\n",
            "4       57332               NaN\n"
          ]
        }
      ],
      "source": [
        "# Assuming df is your original DataFrame and it's already loaded\n",
        "\n",
        "# Filter df for rows where the brand is 'Remington' and select only 'Item Number' and 'product_type'\n",
        "df_check = df[['Item Number', 'product_type']]\n",
        "\n",
        "# Display the first few rows of df_check\n",
        "print(df_check.head())\n",
        "df_check.to_csv(\"check_remsPT.csv\", index = False)"
      ]
    },
    {
      "cell_type": "code",
      "execution_count": 139,
      "metadata": {
        "id": "kQFTFKI8dKPs"
      },
      "outputs": [],
      "source": [
        "df.to_csv(\"df\", index = False)"
      ]
    },
    {
      "cell_type": "markdown",
      "metadata": {
        "id": "c66RYIgYjzLc"
      },
      "source": [
        "###3-5)Clean Brand product_type Category and Subcategory"
      ]
    },
    {
      "cell_type": "code",
      "execution_count": 140,
      "metadata": {
        "id": "-0LQQu8Lmdgs"
      },
      "outputs": [],
      "source": [
        "# Rename the column\n",
        "df.rename(columns={'Unified Description': 'Unified IN'}, inplace=True)"
      ]
    },
    {
      "cell_type": "markdown",
      "metadata": {
        "id": "h4-XcYJDeouO"
      },
      "source": [
        "####3-5.1)quick Brand Cleaning"
      ]
    },
    {
      "cell_type": "code",
      "execution_count": 141,
      "metadata": {
        "id": "Isdjy7EegT1l"
      },
      "outputs": [],
      "source": [
        "df['Brand'] = df['Brand'].replace('cleannet', 'clean net')\n",
        "\n",
        "to_replace_brand = {\n",
        "    \"Keplex\": [\"semi prmnnt\", \"shampoo\",\"keplex\"],\n",
        "    \"babyliss\" : [\"electrical\"],\n",
        "    \"reflet argin\": [\"reflet arg\"],\n",
        "    \"vitality\": [\"tubes\"],\n",
        "    \"k.keratin\": [\"conditioner\",\"keratine\", \"coloration\"]\n",
        "\n",
        "}\n",
        "# Replace values in 'Brand',\n",
        "for new_value, old_values in to_replace_brand.items():\n",
        "    df['Brand'].replace(old_values, new_value, inplace=True)"
      ]
    },
    {
      "cell_type": "code",
      "execution_count": 142,
      "metadata": {
        "id": "LjC3b7XX5lWU"
      },
      "outputs": [],
      "source": [
        "import pandas as pd\n",
        "\n",
        "# Assuming your DataFrame is named df and is already loaded\n",
        "\n",
        "# Function to update the Brand based on Item Description\n",
        "def update_brand(row):\n",
        "    if row['Item Description'].lower().startswith('wahl'):\n",
        "        return 'wahl'\n",
        "    return row['Brand']\n",
        "\n",
        "# Apply the function to each row\n",
        "df['Brand'] = df.apply(update_brand, axis=1)\n",
        "\n",
        "# Now df will have the 'Brand' updated to 'wahl' where the Item Description starts with 'wahl'\n"
      ]
    },
    {
      "cell_type": "code",
      "execution_count": 143,
      "metadata": {
        "id": "8mwnULq3elru",
        "colab": {
          "base_uri": "https://localhost:8080/"
        },
        "outputId": "1d01253e-ddaa-4c31-b5b9-62d9370d5fab"
      },
      "outputs": [
        {
          "output_type": "stream",
          "name": "stdout",
          "text": [
            "style           42013\n",
            "foamy           38922\n",
            "clean net       12448\n",
            "hawai            8768\n",
            "remington         517\n",
            "Keplex            151\n",
            "wahl              110\n",
            "k.keratin         109\n",
            "vitality           90\n",
            "reflet argin       84\n",
            "treatment          70\n",
            "babyliss           60\n",
            "justformen         35\n",
            "marvelisse         16\n",
            "gl/cr/serum        14\n",
            "elect stra         14\n",
            "straightnr         11\n",
            "cover spray        11\n",
            "make-up            11\n",
            "shaver mchn        10\n",
            "oxydant             9\n",
            "onemon col          9\n",
            "men section         9\n",
            "serum               8\n",
            "mim                 6\n",
            "wellness            6\n",
            "curling mac         6\n",
            "caviarine           5\n",
            "h.accessor          5\n",
            "wax                 4\n",
            "scissors            4\n",
            "promo item          4\n",
            "h.r.machine         4\n",
            "hairdrs bag         3\n",
            "face care           3\n",
            "promotion           3\n",
            "mask/oil            3\n",
            "fresheners          3\n",
            "promo               2\n",
            "wax machine         2\n",
            "combs               2\n",
            "rmvl paste          2\n",
            "h.extension         2\n",
            "glowy               2\n",
            "gent                1\n",
            "krys-krtn           1\n",
            "r.m.(b)             1\n",
            "shaving imp         1\n",
            "loufa               1\n",
            "zero                1\n",
            "mantenance          1\n",
            "h.clipper           1\n",
            "idm/fixedas         1\n",
            "Name: Brand, dtype: int64\n"
          ]
        }
      ],
      "source": [
        "# Count the occurrences of each unique value in the 'Brand' column\n",
        "brand_counts = df['Brand'].value_counts()\n",
        "\n",
        "# Display the counts\n",
        "print(brand_counts)"
      ]
    },
    {
      "cell_type": "code",
      "execution_count": 143,
      "metadata": {
        "id": "qXgHmyop11lh"
      },
      "outputs": [],
      "source": []
    },
    {
      "cell_type": "markdown",
      "metadata": {
        "id": "t9raeY9CMVNU"
      },
      "source": [
        "####3.5-2)product_type cleaning"
      ]
    },
    {
      "cell_type": "code",
      "execution_count": 144,
      "metadata": {
        "id": "X9LUigwCMb9z"
      },
      "outputs": [],
      "source": [
        "import pandas as pd\n",
        "\n",
        "# Load your DataFrame 'df'\n",
        "\n",
        "# List of specific product types to replace with 'shampoo'\n",
        "to_replace = [\n",
        "    \"shampoo\", \"sh.\", \"sh\", \"shampo\", \"shampoo1.125l*2\",\n",
        "    \"shanpoo\", \"shamp\", \"sham\", \"sh.gallon\", \"sh/gel\",\n",
        "    \"shamp.meridian\", \"sha.\"\n",
        "]\n",
        "\n",
        "# Replace each instance in 'product_type' with 'shampoo'\n",
        "df['product_type'] = df['product_type'].replace(to_replace, 'shampoo')"
      ]
    },
    {
      "cell_type": "code",
      "execution_count": 145,
      "metadata": {
        "id": "Y5n5EHWaY2C5"
      },
      "outputs": [],
      "source": [
        "#dishwashing\n",
        "to_replace = [\n",
        "    \"dishwash\", \"dishwashing liquid\",\"dishwashing\",\"dishwasing\",\"dishwash+hand soap\"\n",
        "]\n",
        "# Replace each instance in 'product_type' with 'shampoo'\n",
        "df['product_type'] = df['product_type'].replace(to_replace, 'dishwashing')\n",
        "\n",
        "\n",
        "#laundry\n",
        "to_replace = [\n",
        "    \"laundry\", \"laundry power\", \"laundry gel\"\n",
        "]\n",
        "df['product_type'] = df['product_type'].replace(to_replace, 'laundry gel')\n",
        "\n",
        "\n",
        "#fabric softner\n",
        "df['product_type'] = df['product_type'].replace('fabric siftner', 'fabric softner')\n",
        "\n",
        "\n",
        "#hand soap\n",
        "to_replace = [\n",
        "    \"hnd sop\", \"hnd sp\",\"hndsoap\",\"1l*2+hand soap\",\"handsoap\"\n",
        "]\n",
        "df['product_type'] = df['product_type'].replace(to_replace, 'hand soap')\n",
        "\n",
        "\n",
        "#shower gel\n",
        "df['product_type'] = df['product_type'].replace(\"showergel\", 'shower gel')\n",
        "\n",
        "\n",
        "#fabric softner\n",
        "df['product_type'] = df['product_type'].replace(\"fabric softener\", 'fabric softner')\n",
        "\n",
        "replacement_dict = {\n",
        "    \"bathroom cleaner\": [\"bathroom cleaner+sur\", \"bathroom cleaning\", \"antibacterial bathro\"],\n",
        "    \"toilet cleaner\": [\"toilet gel cleaner\"],\n",
        "    \"alcohol\": [\"alcohol spray\", \"pure alcohol\"],\n",
        "    \"oxidant\": [\"oxydant\"],\n",
        "    \"flash\": [\"flush\"],\n",
        "    \"disinfectant\": [\"disinfectant cleaner\", \"bowl disinfectant\"],\n",
        "    \"hair conditioner\": [\"conditioner\", \"bone marrow conditioning\", \"anti-oxidant conditioner\", \"conditioning mask\",\n",
        "                        \"shampoo &conditioner\", \"bone marrow conditioning mask\", \"straightening conditioner\",\n",
        "                        \"collagen conditioner\", \"salon conditioner\", \"anti-oxidant conditi\", \"cond\", \"cond mask\"],\n",
        "    \"hair remover\": [\"r.was\", \"wax\", \"hair remov\"],\n",
        "    \"thinning scissors\" : [\"thng.scrs\"],\n",
        "    \"developer cream\" : [\"dev.cream\"],\n",
        "    \"hair dye\": [\"vitality hair dye\"],\n",
        "    \"keratin\": [\"keratin serum\", \"keratine collagen\",\"k.keratine collagen\"],\n",
        "    \"glass cleaner\" : [\"hostpital\"],\n",
        "    \"lice remover\" : [\"cream\"]\n",
        "}\n",
        "\n",
        "df['product_type'] = df['product_type'].replace(\"cream\", 'lice remover')\n",
        "# Replace values in 'product_type'\n",
        "for new_value, old_values in replacement_dict.items():\n",
        "    df['product_type'].replace(old_values, new_value, inplace=True)"
      ]
    },
    {
      "cell_type": "markdown",
      "metadata": {
        "id": "UEkvb8gOXXvU"
      },
      "source": [
        "####3.5-3) create Category and Subcategory Columns in df"
      ]
    },
    {
      "cell_type": "code",
      "execution_count": 146,
      "metadata": {
        "id": "gZeIharR-3qe"
      },
      "outputs": [],
      "source": [
        "df['product_type'] = df['product_type'].str.lower().str.strip()"
      ]
    },
    {
      "cell_type": "code",
      "execution_count": 147,
      "metadata": {
        "id": "1qFhvVuthDTh",
        "colab": {
          "base_uri": "https://localhost:8080/"
        },
        "outputId": "5081dfb1-70b3-4138-fe49-27f035165aa1"
      },
      "outputs": [
        {
          "output_type": "stream",
          "name": "stdout",
          "text": [
            "shampoo             45354\n",
            "dishwashing         19656\n",
            "laundry gel          7048\n",
            "general cleaner      4678\n",
            "hand soap            4421\n",
            "                    ...  \n",
            "housing comple          1\n",
            "fascinelle spray        1\n",
            "anti-oxidant            1\n",
            "lith clipper            1\n",
            "cooling spray           1\n",
            "Name: product_type, Length: 226, dtype: int64\n"
          ]
        }
      ],
      "source": [
        "#check\n",
        "# Convert the 'product_type' column to lowercase\n",
        "df['product_type'] = df['product_type'].str.lower()\n",
        "\n",
        "# Count the occurrences of each unique value in the 'Brand' column\n",
        "type_counts = df['product_type'].value_counts()\n",
        "\n",
        "# Display the counts\n",
        "df_productDistnCounts = type_counts.to_csv(\"df_product_check.csv\")\n",
        "print(type_counts)"
      ]
    },
    {
      "cell_type": "markdown",
      "metadata": {
        "id": "1GmzfmrIHE_1"
      },
      "source": [
        "we used df_productDistnCounts to create the dictionary by manually assigning distinct product types a category and subcategory. Its not the ideal approach but its the best course of action given the immense accuracy and work put into the cleaning process so far."
      ]
    },
    {
      "cell_type": "code",
      "execution_count": 148,
      "metadata": {
        "id": "kbjFxFN91ChC"
      },
      "outputs": [],
      "source": [
        "df_PT_dict = pd.read_csv(\"/content/drive/MyDrive/Capstone/df_type_dict.csv\")\n",
        "\n",
        "# Convert all values in 'product_type' column to lowercase and strip leading/trailing spaces\n",
        "df_PT_dict['product_type'] = df_PT_dict['product_type'].str.lower().str.strip()\n",
        "df_PT_dict['product_type'] = df_PT_dict['product_type'].replace(\"keratine collagen\", \"keratin\")\n",
        "df_PT_dict['product_type'] = df_PT_dict['product_type'].replace(\"thng. scrs\", \"thinning scissors\")\n",
        "\n",
        "#Category\n",
        "df_PT_dict['Category '] = df_PT_dict['Category '].replace(\"Persnoal Care\", \"Personal Care\")\n",
        "\n",
        "###\n",
        "replacement_dict = {\n",
        "    \"Personal Care\" : [\"Persnoal Care\", \"Personal Care or Household Cleaning\", \"Beauty and Cosmetics or Health\", \"Personal Care or Art Supplies\"],\n",
        "    \"Others\": [\"Pet Supplies\", \"Hardware or Industrial\", \"Personal Care or Health\", \"Industrial or Household\", \"Stationery or Education\", \"Electronics or Construction\"]\n",
        "\n",
        "}\n",
        "\n",
        "# Replace values in 'product_type'\n",
        "for new_value, old_values in replacement_dict.items():\n",
        "    df_PT_dict['Category '].replace(old_values, new_value, inplace=True)\n"
      ]
    },
    {
      "cell_type": "code",
      "execution_count": 149,
      "metadata": {
        "id": "DbXFj71E05kH",
        "colab": {
          "base_uri": "https://localhost:8080/"
        },
        "outputId": "c0cd37c6-7507-4f4a-dd06-c88d1a3617f4"
      },
      "outputs": [
        {
          "output_type": "stream",
          "name": "stdout",
          "text": [
            "Product types in df_PT_dict not present in df:\n",
            "thinning scissors\n"
          ]
        }
      ],
      "source": [
        "# Get unique product_type values from df_PT_dict\n",
        "unique_product_types_df_PT_dict = set(df_PT_dict['product_type'].unique())\n",
        "\n",
        "# Get unique product_type values from df\n",
        "unique_product_types_df = set(df['product_type'].unique())\n",
        "\n",
        "# Find product_type values in df_PT_dict not present in df\n",
        "product_types_not_in_df = unique_product_types_df_PT_dict - unique_product_types_df\n",
        "\n",
        "# Print the product types not present in df\n",
        "print(\"Product types in df_PT_dict not present in df:\")\n",
        "for product_type in product_types_not_in_df:\n",
        "    print(product_type)\n"
      ]
    },
    {
      "cell_type": "code",
      "execution_count": 150,
      "metadata": {
        "id": "LMiNRtgOSAlZ"
      },
      "outputs": [],
      "source": [
        "import pandas as pd\n",
        "\n",
        "# Assuming df and df_PT_dict are already loaded\n",
        "\n",
        "# Create mappings for Category and Subcategory from df_PT_dict\n",
        "category_mapping = df_PT_dict.set_index('product_type')['Category '].to_dict()\n",
        "subcategory_mapping = df_PT_dict.set_index('product_type')['Subcategory '].to_dict()\n",
        "\n",
        "# Map the values to df\n",
        "df['Category'] = df['product_type'].map(category_mapping)\n",
        "df['Subcategory'] = df['product_type'].map(subcategory_mapping)\n"
      ]
    },
    {
      "cell_type": "code",
      "execution_count": 151,
      "metadata": {
        "id": "9J212ZnsLZxr"
      },
      "outputs": [],
      "source": [
        "########## very important check point  ############\n",
        "df.to_csv(\"df_check.csv\", index = False)"
      ]
    },
    {
      "cell_type": "markdown",
      "metadata": {
        "id": "9BeSuFFYIC9w"
      },
      "source": [
        "make sure that no product_type value is not present in the dictionary to avoid any faults in the data"
      ]
    },
    {
      "cell_type": "markdown",
      "metadata": {
        "id": "Cnio4r870rx2"
      },
      "source": [
        "###3.6) Extra Cleaning (Location)"
      ]
    },
    {
      "cell_type": "markdown",
      "metadata": {
        "id": "lVqXpmg-E34-"
      },
      "source": [
        "do we add admin to intercompany"
      ]
    },
    {
      "cell_type": "code",
      "execution_count": 152,
      "metadata": {
        "id": "fcQxG5nzAMAL",
        "colab": {
          "base_uri": "https://localhost:8080/"
        },
        "outputId": "3ca6e2e6-7ce5-4f95-a394-48f2729997dd"
      },
      "outputs": [
        {
          "output_type": "stream",
          "name": "stdout",
          "text": [
            "<built-in method sum of numpy.ndarray object at 0x7a5223e11950>\n",
            "Unique Location IDs:\n",
            "['slska1' 'intercompany' 'slssth2' 'sprvsrsth' 'sprvsrbek' 'slsbek2'\n",
            " 'slsptc02m2' 'admin' 'slssbr' 'slsdbs' 'slsbrt' 'salons' 'slsmtn'\n",
            " 'pharmacies' 'export' 'slsmtn-ksn' 'sprvsrnor' 'slsksn-jbl' 'SLSSBR'\n",
            " 'SLSBRT' nan]\n"
          ]
        }
      ],
      "source": [
        "import pandas as pd\n",
        "\n",
        "# Assuming your DataFrame is named df and it's already loaded\n",
        "\n",
        "# Get unique values from the 'Location ID' column\n",
        "unique_location_ids = df['Location ID'].unique()\n",
        "print(unique_location_ids.sum)\n",
        "# Print the unique values\n",
        "print(\"Unique Location IDs:\")\n",
        "print(unique_location_ids)"
      ]
    },
    {
      "cell_type": "code",
      "execution_count": 153,
      "metadata": {
        "id": "w8pwJeTS-iAR"
      },
      "outputs": [],
      "source": [
        "location_dic = {\n",
        "    \"all branches\" : [\"Slska1\"],\n",
        "    \"South\" : [\"slssth2\"],\n",
        "    \"North\" : [\"sprvsrnor\"],\n",
        "    \"Baalbek-Hermel\": [\"slsbek2\"],\n",
        "    \"Beirut\" : [\"slsbrt\",\"SLSBRT\"],\n",
        "    \"Beqaa\" : [\"sprvsrbek\",],\n",
        "    \"Kesrwen-Jbeil\" : [\"slsmtn-ksn\",\"slsksn-jbl\",\"slsmtn\"],\n",
        "    \"Mount Lebanon\": [\"slssbr\", \"SLSSBR\"],\n",
        "    \"Nabatieh\" : [\"sprvsrsth\"],\n",
        "    \"intercompany\" : [\"slsptc02m2\"]\n",
        "}\n",
        "for new_value, old_values in location_dic.items():\n",
        "    df['Location ID'].replace(old_values, new_value, inplace=True)"
      ]
    },
    {
      "cell_type": "code",
      "execution_count": 154,
      "metadata": {
        "id": "OyaZ4J0HEb00",
        "colab": {
          "base_uri": "https://localhost:8080/"
        },
        "outputId": "9c2f75db-8d42-49a5-d261-6b9b472c6117"
      },
      "outputs": [
        {
          "output_type": "stream",
          "name": "stdout",
          "text": [
            "There are 15 distinct items.\n"
          ]
        }
      ],
      "source": [
        "import pandas as pd\n",
        "\n",
        "# Assuming your DataFrame is named df and it's already loaded\n",
        "\n",
        "# Count the number of distinct items\n",
        "distinct_Locations = df['Location ID'].nunique()\n",
        "\n",
        "# Print the count of distinct items\n",
        "print(f\"There are {distinct_Locations} distinct items.\")\n"
      ]
    },
    {
      "cell_type": "markdown",
      "metadata": {
        "id": "ooucBMfPGrIa"
      },
      "source": [
        "###3.7) Extra columns"
      ]
    },
    {
      "cell_type": "code",
      "execution_count": 155,
      "metadata": {
        "id": "HHEtzjd2GC4P",
        "colab": {
          "base_uri": "https://localhost:8080/"
        },
        "outputId": "f379c282-4192-4610-9b34-a8775ac165c7"
      },
      "outputs": [
        {
          "output_type": "stream",
          "name": "stdout",
          "text": [
            "Number of items with offers: 3342\n",
            "Number of items without offers: 100237\n"
          ]
        }
      ],
      "source": [
        "import pandas as pd\n",
        "\n",
        "# Assuming your DataFrame is named df and it's already loaded\n",
        "\n",
        "# Function to check for a plus sign in the item description\n",
        "def check_offer(description):\n",
        "    return 1 if '+' in description else 0\n",
        "\n",
        "# Apply the function to create the 'With Offer' column\n",
        "df['With Offer'] = df['Item Description'].apply(check_offer)\n",
        "\n",
        "# Count the number of items with and without offers\n",
        "offer_counts = df['With Offer'].value_counts()\n",
        "\n",
        "# Print the counts\n",
        "print(\"Number of items with offers:\", offer_counts.get(1, 0))\n",
        "print(\"Number of items without offers:\", offer_counts.get(0, 0))\n"
      ]
    },
    {
      "cell_type": "code",
      "execution_count": 156,
      "metadata": {
        "id": "b8TV9BQVKmMt"
      },
      "outputs": [],
      "source": [
        "import pandas as pd\n",
        "\n",
        "# Assuming your DataFrame is named df and it's already loaded\n",
        "\n",
        "# Convert 'Document Date' to datetime if it's not already\n",
        "df['Document Date'] = pd.to_datetime(df['Document Date'])\n",
        "\n",
        "# Extract day, month, and year\n",
        "df['Day'] = df['Document Date'].dt.day\n",
        "df['Month'] = df['Document Date'].dt.month\n",
        "df['Year'] = df['Document Date'].dt.year\n",
        "\n",
        "# Now df will have new columns 'Day', 'Month', and 'Year'\n"
      ]
    },
    {
      "cell_type": "code",
      "execution_count": 157,
      "metadata": {
        "id": "7Q1lN8stKt_C",
        "colab": {
          "base_uri": "https://localhost:8080/"
        },
        "outputId": "a2da6087-bf6b-4aae-d2a4-2d40f426dcfb"
      },
      "outputs": [
        {
          "output_type": "stream",
          "name": "stdout",
          "text": [
            "Document Date    2020-02-27 00:00:00\n",
            "Day                               27\n",
            "Month                              2\n",
            "Year                            2020\n",
            "Name: 4459, dtype: object\n"
          ]
        }
      ],
      "source": [
        "print(df[['Document Date', 'Day', 'Month', 'Year']].iloc[4459]) #working well"
      ]
    },
    {
      "cell_type": "markdown",
      "source": [
        "###3.8) Customer Names Cleaning"
      ],
      "metadata": {
        "id": "zOHAD5GqmWcs"
      }
    },
    {
      "cell_type": "markdown",
      "metadata": {
        "id": "VVmsnqlrFrvU"
      },
      "source": [
        "##RFM Analysis"
      ]
    },
    {
      "cell_type": "markdown",
      "metadata": {
        "id": "LCi5oNeXFwEA"
      },
      "source": []
    },
    {
      "cell_type": "code",
      "execution_count": 158,
      "metadata": {
        "id": "stvNfMqEIIiv"
      },
      "outputs": [],
      "source": [
        "# create a dataset solely for working on RFM analysis\n",
        "df_rfm = df"
      ]
    },
    {
      "cell_type": "code",
      "source": [
        "#here we're going to remove ID's own retailers\n",
        "import pandas as pd\n",
        "\n",
        "# Define your multiple conditions\n",
        "customer_names = ['customers cash/wtc03', 'customers cash/', 'customers cash_']\n",
        "location_ids = ['intercompany', 'admin', 'slsdbs', 'slsptc02m2']\n",
        "\n",
        "\n",
        "# Filter df_frm based on these conditions\n",
        "condition = df_rfm['Customer Name'].isin(customer_names) | df_rfm['Location ID'].isin(location_ids)\n",
        "filtered_df = df_rfm[condition]\n",
        "\n",
        "# Create list of unique customer numbers\n",
        "unique_customer_numbers = filtered_df['Customer Number'].unique()\n",
        "\n",
        "# Drop these customers from df_rfm\n",
        "df_rfm = df_rfm[~df_rfm['Customer Number'].isin(unique_customer_numbers)]\n"
      ],
      "metadata": {
        "id": "gxLXWD6rmbgy"
      },
      "execution_count": 159,
      "outputs": []
    },
    {
      "cell_type": "code",
      "execution_count": 160,
      "metadata": {
        "id": "wGP8biQFFw0Q",
        "colab": {
          "base_uri": "https://localhost:8080/"
        },
        "outputId": "753174e1-bf9a-45f9-88ad-80720650fadf"
      },
      "outputs": [
        {
          "output_type": "stream",
          "name": "stdout",
          "text": [
            "                   Item Description  Total Extended Price\n",
            "72            foamy dishwash 6000ml          2.172554e+06\n",
            "102      foamy laundry power gel 5l          2.154178e+06\n",
            "181  style apple blossom sh. 4000ml          1.300975e+06\n",
            "226  style shampoo cool ocean 4000m          1.218185e+06\n",
            "91     foamy general cleaner 6000ml          1.196581e+06\n"
          ]
        }
      ],
      "source": [
        "import pandas as pd\n",
        "\n",
        "# Assuming your DataFrame is named df and it's already loaded\n",
        "\n",
        "# Group by 'Item Description' and sum the 'Extended Price'\n",
        "grouped_data = df_rfm.groupby('Item Description')['Extended Price'].sum().reset_index()\n",
        "\n",
        "# Rename the columns for clarity\n",
        "grouped_data.columns = ['Item Description', 'Total Extended Price']\n",
        "\n",
        "#sort data\n",
        "sorted_data = grouped_data.sort_values(by='Total Extended Price', ascending=False)\n",
        "\n",
        "# Output the result\n",
        "print(sorted_data.head())\n"
      ]
    },
    {
      "cell_type": "code",
      "execution_count": 161,
      "metadata": {
        "id": "__Bmh_gOdwUd",
        "colab": {
          "base_uri": "https://localhost:8080/"
        },
        "outputId": "bf21c8ce-c229-4220-b05c-20a8b5888ab1"
      },
      "outputs": [
        {
          "output_type": "stream",
          "name": "stdout",
          "text": [
            "  Customer Number  Recency  Frequency   Monetary\n",
            "0      000c001843      931          3    887.013\n",
            "1      000c002061      263         10  22773.877\n",
            "2      000c002093      127         10   4362.490\n",
            "3      000c002097       98         15  13162.803\n",
            "4      000c002129        9          4   2541.310\n"
          ]
        },
        {
          "output_type": "stream",
          "name": "stderr",
          "text": [
            "<ipython-input-161-501992d6add2>:9: SettingWithCopyWarning: \n",
            "A value is trying to be set on a copy of a slice from a DataFrame.\n",
            "Try using .loc[row_indexer,col_indexer] = value instead\n",
            "\n",
            "See the caveats in the documentation: https://pandas.pydata.org/pandas-docs/stable/user_guide/indexing.html#returning-a-view-versus-a-copy\n",
            "  df_rfm['Document Date'] = pd.to_datetime(df_rfm['Document Date'])\n"
          ]
        }
      ],
      "source": [
        "####### calculating the R F and M for our Customers  ###########\n",
        "import pandas as pd\n",
        "from datetime import datetime\n",
        "\n",
        "# Assuming your DataFrame is named df_rfm and it's already loaded\n",
        "# Also, assuming 'Document Date' is in a standard date format like 'YYYY-MM-DD'\n",
        "\n",
        "# Convert 'Document Date' to datetime\n",
        "df_rfm['Document Date'] = pd.to_datetime(df_rfm['Document Date'])\n",
        "\n",
        "# Determine your analysis date - typically one day after your latest date in the dataset\n",
        "latest_date = df_rfm['Document Date'].max() + pd.Timedelta(days = 1)\n",
        "\n",
        "# Calculate Recency (days since last purchase)\n",
        "recency = df_rfm.groupby('Customer Number')['Document Date'].max()\n",
        "recency = (latest_date - recency).dt.days\n",
        "recency = recency.reset_index()\n",
        "recency.columns = ['Customer Number', 'Recency']\n",
        "\n",
        "#Calculate Frequency (number of unique invoices per customer)\n",
        "frequency = df_rfm.groupby('Customer Number')['SOP Number'].nunique()\n",
        "frequency = frequency.reset_index()\n",
        "frequency.columns = ['Customer Number', 'Frequency']\n",
        "\n",
        "# Calculate Monetary (total money spent)\n",
        "monetary = df_rfm.groupby('Customer Number')['Extended Price'].sum()  # Replace 'Extended Price' with your monetary column name\n",
        "monetary = monetary.reset_index()\n",
        "monetary.columns = ['Customer Number', 'Monetary']\n",
        "\n",
        "# Merge the recency, frequency, and monetary dataframes\n",
        "df_rfm_segment = pd.merge(recency, frequency, on='Customer Number')\n",
        "df_rfm_segment = pd.merge(df_rfm_segment, monetary, on='Customer Number')\n",
        "\n",
        "# Display the first few rows of the RFM table\n",
        "print(df_rfm_segment.head())\n"
      ]
    },
    {
      "cell_type": "code",
      "source": [
        "# import pandas as pd\n",
        "# from datetime import datetime\n",
        "\n",
        "# # Assuming your DataFrame is named df_rfm and it's already loaded\n",
        "# # Also, assuming 'Document Date' is in a standard date format like 'YYYY-MM-DD'\n",
        "\n",
        "# # Convert 'Document Date' to datetime\n",
        "# df_rfm['Document Date'] = pd.to_datetime(df_rfm['Document Date'])\n",
        "\n",
        "# # Determine your analysis date - typically one day after your latest date in the dataset\n",
        "# latest_date = df_rfm['Document Date'].max() + pd.Timedelta(days=1)\n",
        "\n",
        "# # Calculate Recency (days since last purchase)\n",
        "# df_rfm['Recency'] = df_rfm.groupby('Customer Number')['Document Date'].transform(lambda x: (latest_date - x.max()).days)\n",
        "\n",
        "# # Calculate Frequency (number of unique invoices per customer)\n",
        "# df_rfm['Frequency'] = df_rfm.groupby('Customer Number')['SOP Number'].transform('nunique')\n",
        "\n",
        "# # Calculate Monetary (total money spent)\n",
        "# df_rfm['Monetary'] = df_rfm.groupby('Customer Number')['Extended Price'].transform('sum')  # Replace 'Extended Price' with your monetary column name\n",
        "\n",
        "# # Ensure each customer appears only once with their RFM values\n",
        "# #df_rfm = df_rfm.drop_duplicates(subset=['Customer Number'])\n",
        "\n",
        "# # Display the first few rows of the RFM table\n",
        "# print(df_rfm[['Customer Number', 'Recency', 'Frequency', 'Monetary']].head())\n"
      ],
      "metadata": {
        "colab": {
          "base_uri": "https://localhost:8080/"
        },
        "id": "m7xk_6f-Wr8u",
        "outputId": "b334eab5-b5f2-4751-fabc-23ea58d4595a"
      },
      "execution_count": 129,
      "outputs": [
        {
          "output_type": "stream",
          "name": "stdout",
          "text": [
            "   Customer Number  Recency  Frequency      Monetary\n",
            "0       000c025095      113        472  2.248599e+06\n",
            "11      000c023682     1181          2  2.482178e+02\n",
            "12      000c023682     1181          2  2.482178e+02\n",
            "13      000c023682     1181          2  2.482178e+02\n",
            "14      000c023682     1181          2  2.482178e+02\n"
          ]
        }
      ]
    },
    {
      "cell_type": "code",
      "source": [
        "df_rfm_segment.isna().sum()"
      ],
      "metadata": {
        "colab": {
          "base_uri": "https://localhost:8080/"
        },
        "id": "5LPbHsnzEPyj",
        "outputId": "86a107d1-4207-40a0-831c-c7bfab9ad56e"
      },
      "execution_count": 162,
      "outputs": [
        {
          "output_type": "execute_result",
          "data": {
            "text/plain": [
              "Customer Number    0\n",
              "Recency            0\n",
              "Frequency          0\n",
              "Monetary           0\n",
              "dtype: int64"
            ]
          },
          "metadata": {},
          "execution_count": 162
        }
      ]
    },
    {
      "cell_type": "code",
      "execution_count": 163,
      "metadata": {
        "id": "hp7pHJwCefxo",
        "colab": {
          "base_uri": "https://localhost:8080/"
        },
        "outputId": "0b4247d8-27f8-4110-ed34-3e2d91e6ade5"
      },
      "outputs": [
        {
          "output_type": "stream",
          "name": "stdout",
          "text": [
            "count    1.556000e+03\n",
            "mean     1.776830e+04\n",
            "std      7.249056e+04\n",
            "min      1.000000e-01\n",
            "25%      8.126190e+02\n",
            "50%      4.371053e+03\n",
            "75%      1.459743e+04\n",
            "max      2.248599e+06\n",
            "Name: Monetary, dtype: float64\n"
          ]
        }
      ],
      "source": [
        "print(df_rfm_segment['Monetary'].describe())"
      ]
    },
    {
      "cell_type": "code",
      "source": [
        "frequency_value_counts = df_rfm_segment['Frequency'].value_counts()\n",
        "print(frequency_value_counts)"
      ],
      "metadata": {
        "colab": {
          "base_uri": "https://localhost:8080/"
        },
        "id": "vhtDRYMjF1MK",
        "outputId": "19799ec6-c095-4e2d-aa34-3c1652364b60"
      },
      "execution_count": 164,
      "outputs": [
        {
          "output_type": "stream",
          "name": "stdout",
          "text": [
            "1      341\n",
            "2      165\n",
            "3      101\n",
            "4       92\n",
            "5       76\n",
            "6       70\n",
            "7       67\n",
            "8       60\n",
            "10      54\n",
            "9       50\n",
            "12      42\n",
            "15      40\n",
            "11      39\n",
            "14      35\n",
            "13      35\n",
            "17      34\n",
            "16      31\n",
            "22      23\n",
            "18      21\n",
            "20      21\n",
            "25      14\n",
            "26      14\n",
            "21      14\n",
            "19      13\n",
            "28      12\n",
            "27      12\n",
            "23      10\n",
            "24      10\n",
            "34       9\n",
            "30       7\n",
            "31       6\n",
            "29       5\n",
            "39       4\n",
            "32       4\n",
            "38       3\n",
            "40       3\n",
            "37       2\n",
            "44       2\n",
            "61       2\n",
            "60       2\n",
            "49       2\n",
            "48       1\n",
            "70       1\n",
            "472      1\n",
            "42       1\n",
            "35       1\n",
            "45       1\n",
            "80       1\n",
            "53       1\n",
            "41       1\n",
            "Name: Frequency, dtype: int64\n"
          ]
        }
      ]
    },
    {
      "cell_type": "code",
      "source": [
        "recency_value_counts = df_rfm_segment['Recency'].value_counts()\n",
        "print(recency_value_counts)"
      ],
      "metadata": {
        "colab": {
          "base_uri": "https://localhost:8080/"
        },
        "id": "yBlwArbZcMBP",
        "outputId": "a6a58c9e-9a3a-44c9-e62c-edb0e3461666"
      },
      "execution_count": 165,
      "outputs": [
        {
          "output_type": "stream",
          "name": "stdout",
          "text": [
            "63      41\n",
            "32      30\n",
            "40      27\n",
            "44      19\n",
            "24      17\n",
            "        ..\n",
            "308      1\n",
            "564      1\n",
            "653      1\n",
            "1268     1\n",
            "575      1\n",
            "Name: Recency, Length: 518, dtype: int64\n"
          ]
        }
      ]
    },
    {
      "cell_type": "code",
      "source": [
        "monetary_value_counts = df_rfm_segment['Monetary'].value_counts()\n",
        "print(monetary_value_counts)"
      ],
      "metadata": {
        "colab": {
          "base_uri": "https://localhost:8080/"
        },
        "id": "BopL3t0ncLz-",
        "outputId": "982b8e88-417b-41c4-ad4e-9ecd72aba15d"
      },
      "execution_count": 166,
      "outputs": [
        {
          "output_type": "stream",
          "name": "stdout",
          "text": [
            "80.50000       6\n",
            "100.00000      4\n",
            "50.00000       4\n",
            "51.70000       4\n",
            "14.00000       3\n",
            "              ..\n",
            "22372.91100    1\n",
            "59.22000       1\n",
            "19733.11500    1\n",
            "704.66000      1\n",
            "34999.97844    1\n",
            "Name: Monetary, Length: 1522, dtype: int64\n"
          ]
        }
      ]
    },
    {
      "cell_type": "code",
      "source": [
        "# Assuming df_rfm_segment is your DataFrame with columns 'Customer Number' and 'Frequency'\n",
        "\n",
        "# Group by 'Customer Number' and calculate the sum of frequency for each customer\n",
        "customer_frequency = df_rfm_segment.groupby('Customer Number')['Frequency'].sum()\n",
        "\n",
        "# Convert the series to a DataFrame and reset the index\n",
        "customer_frequency_df = customer_frequency.reset_index()\n",
        "\n",
        "# Rename columns for clarity\n",
        "customer_frequency_df.columns = ['Customer Number', 'Frequency Score']\n",
        "\n",
        "# Sort the DataFrame by 'Frequency Score' in descending order\n",
        "customer_frequency_df = customer_frequency_df.sort_values(by='Frequency Score', ascending=False)\n",
        "\n",
        "# Display the resulting DataFrame\n",
        "print(customer_frequency_df.head(45))\n"
      ],
      "metadata": {
        "colab": {
          "base_uri": "https://localhost:8080/"
        },
        "id": "MeglAnO9CD5p",
        "outputId": "e5086663-17dd-4776-849e-429158dad0db"
      },
      "execution_count": 167,
      "outputs": [
        {
          "output_type": "stream",
          "name": "stdout",
          "text": [
            "     Customer Number  Frequency Score\n",
            "414       000c025095              472\n",
            "121       000c015149               80\n",
            "423       000c025213               70\n",
            "73        000c009919               61\n",
            "702       000c040310               61\n",
            "67        000c008001               60\n",
            "815       000c040955               60\n",
            "51        000c005711               53\n",
            "58        000c005973               49\n",
            "245       000c021110               49\n",
            "307       000c022812               48\n",
            "158       000c017139               45\n",
            "257       000c021666               44\n",
            "545       000c027889               44\n",
            "514       000c026986               42\n",
            "652       000c030025               41\n",
            "726       000c040710               40\n",
            "119       000c014171               40\n",
            "29        000c004186               40\n",
            "709       000c040427               39\n",
            "123       000c015594               39\n",
            "10        000c002362               39\n",
            "435       000c025307               39\n",
            "455       000c025619               38\n",
            "198       000c017575               38\n",
            "743       000c040752               38\n",
            "97        000c011361               37\n",
            "288       000c022734               37\n",
            "54        000c005856               35\n",
            "732       000c040730               34\n",
            "50        000c005709               34\n",
            "724       000c040708               34\n",
            "137       000c016256               34\n",
            "112       000c012413               34\n",
            "886       000c050185               34\n",
            "324       000c023251               34\n",
            "320       000c023128               34\n",
            "9         000c002361               34\n",
            "380       000c024540               32\n",
            "108       000c012357               32\n",
            "166       000c017237               32\n",
            "1472      000c052970               32\n",
            "56        000c005927               31\n",
            "741       000c040747               31\n",
            "182       000c017401               31\n"
          ]
        }
      ]
    },
    {
      "cell_type": "code",
      "source": [
        "# Define custom bins for Frequency based on business logic\n",
        "bins = [0, 3, 10, 20, 50, df_rfm_segment['Frequency'].max()]\n",
        "labels = [1, 2, 3, 4, 5]\n",
        "\n",
        "# Assign the Frequency scores based on the bins\n",
        "df_rfm_segment['F_Score'] = pd.cut(df_rfm_segment['Frequency'], bins=bins, labels=labels)\n",
        "\n",
        "\n",
        "# Recency Binning with qcut\n",
        "# Note: For Recency, lower values are better, so we reverse the labels\n",
        "df_rfm_segment['R_Score'] = pd.qcut(df_rfm_segment['Recency'], 5, labels=[5, 4, 3, 2, 1], duplicates='drop')\n",
        "\n",
        "# Monetary Binning with qcut\n",
        "df_rfm_segment['M_Score'] = pd.qcut(df_rfm_segment['Monetary'], 5, labels=[1, 2, 3, 4, 5], duplicates='drop')\n"
      ],
      "metadata": {
        "id": "GlXLbbw-clbF"
      },
      "execution_count": 168,
      "outputs": []
    },
    {
      "cell_type": "markdown",
      "source": [
        "##Totally different Story"
      ],
      "metadata": {
        "id": "f0AdKUH_W0Yy"
      }
    },
    {
      "cell_type": "code",
      "source": [
        "df_rfm.head()"
      ],
      "metadata": {
        "id": "X_DbsSB5UqAr"
      },
      "execution_count": null,
      "outputs": []
    },
    {
      "cell_type": "code",
      "source": [
        "# import pandas as pd\n",
        "\n",
        "# # Load your original DataFrame\n",
        "# df_invoice = df_rfm\n",
        "\n",
        "# # Group by 'SOP Number' and aggregate\n",
        "# invoice_df = df_invoice.groupby('SOP Number').agg({\n",
        "#     'Item Number': pd.Series.nunique,\n",
        "#     'Category': pd.Series.nunique,\n",
        "#     'Extended Price': 'sum',\n",
        "#     'QTY': 'sum',\n",
        "#     'Customer Number': 'first'  # Assuming each invoice has exactly one customer\n",
        "# }).rename(columns={\n",
        "#     'Item Number': 'Product Variety',\n",
        "#     'Category': 'Category Variety',\n",
        "#     'Extended Price': 'Total Extended Price',\n",
        "#     'QTY': 'Total QTY'\n",
        "# })\n",
        "\n",
        "# # Calculate Percentage Offered\n",
        "# invoice_df['Percentage Offered'] = df_invoice[df_invoice['Offer Status'] == 'Offer'].groupby('SOP Number')['QTY'].sum() / invoice_df['Total QTY']\n",
        "\n",
        "# # # Calculate RFM values for each Customer Number\n",
        "# # rfm_values = df_rfm[['Customer Number', 'Recency', 'Frequency', 'Monetary']]\n",
        "# # invoice_df = invoice_df.merge(rfm_values, how='left', left_on='Customer Number', right_on='Customer Number')\n",
        "\n",
        "# # Fill NaN values in 'Percentage Offered' with 0 (for invoices with no offers)\n",
        "# invoice_df['Percentage Offered'].fillna(0, inplace=True)\n",
        "\n",
        "# # Save the aggregated data to a CSV\n",
        "# invoice_df.to_csv('invoice.csv', index=False)\n",
        "\n",
        "# print(\"Aggregated invoice data saved to 'invoice.csv'.\")\n"
      ],
      "metadata": {
        "colab": {
          "base_uri": "https://localhost:8080/"
        },
        "id": "hjvNdiewUdha",
        "outputId": "f3e906c7-f38c-4435-85bc-faaf1a11b283"
      },
      "execution_count": 169,
      "outputs": [
        {
          "output_type": "stream",
          "name": "stdout",
          "text": [
            "Aggregated invoice data saved to 'invoice.csv'.\n"
          ]
        }
      ]
    },
    {
      "cell_type": "code",
      "source": [
        "import pandas as pd\n",
        "\n",
        "# Load your original DataFrame\n",
        "df_invoice = df_rfm\n",
        "\n",
        "# Group by 'SOP Number' and aggregate\n",
        "invoice_df = df_invoice.groupby('SOP Number').agg({\n",
        "    'Item Number': pd.Series.nunique,\n",
        "    'Category': pd.Series.nunique,\n",
        "    'Subcategory': pd.Series.nunique,  # Assuming 'SubCategory' exists in df_rfm\n",
        "    'Extended Price': 'sum',\n",
        "    'QTY': 'sum',\n",
        "    'Customer Number': 'first',  # Assuming each invoice has exactly one customer\n",
        "    'Document Date': 'first',  # Date of the invoice\n",
        "    'Location ID': 'first',  # Location of the invoice\n",
        "    'SOP Number' : 'first'\n",
        "}).rename(columns={\n",
        "    'Item Number': 'Product Variety',\n",
        "    'Category': 'Category Variety',\n",
        "    'Subcategory': 'SubCategory Variety',\n",
        "    'Extended Price': 'Total Extended Price',\n",
        "    'QTY': 'Total QTY'\n",
        "})\n",
        "\n",
        "# Calculate Percentage Offered and Count of Distinct Offered Items\n",
        "offered_data = df_invoice[df_invoice['Offer Status'] == 'Offer'].groupby('SOP Number').agg({\n",
        "    'QTY': 'sum',\n",
        "    'Item Number': pd.Series.nunique\n",
        "}).rename(columns={\n",
        "    'Item Number': 'Distinct Offered Items'\n",
        "})\n",
        "\n",
        "invoice_df = invoice_df.merge(offered_data, how='left', left_index=True, right_index=True)\n",
        "invoice_df['Percentage Offered'] = invoice_df['QTY'] / invoice_df['Total QTY']\n",
        "invoice_df.drop(columns='QTY', inplace=True)  # Remove the extra 'QTY' column\n",
        "\n",
        "# Fill NaN values with appropriate defaults\n",
        "invoice_df['Percentage Offered'].fillna(0, inplace=True)\n",
        "invoice_df['Distinct Offered Items'].fillna(0, inplace=True)\n",
        "\n",
        "# Save the aggregated data to a CSV\n",
        "invoice_df.to_csv('invoice.csv', index=False)\n",
        "\n",
        "print(\"Aggregated invoice data saved to 'invoice.csv'.\")\n"
      ],
      "metadata": {
        "colab": {
          "base_uri": "https://localhost:8080/"
        },
        "id": "XKfpMvsnzhKL",
        "outputId": "bbf66ce2-2f4a-4844-cf78-9cd982f19cb6"
      },
      "execution_count": 174,
      "outputs": [
        {
          "output_type": "stream",
          "name": "stdout",
          "text": [
            "Aggregated invoice data saved to 'invoice.csv'.\n"
          ]
        }
      ]
    },
    {
      "cell_type": "markdown",
      "metadata": {
        "id": "ftEZOisduyns"
      },
      "source": [
        "##checking for lstm cleaning"
      ]
    },
    {
      "cell_type": "code",
      "execution_count": null,
      "metadata": {
        "id": "y8nXsYmX69e0"
      },
      "outputs": [],
      "source": [
        "df.isnull().sum()"
      ]
    },
    {
      "cell_type": "code",
      "execution_count": null,
      "metadata": {
        "id": "QFGUWuDD690S"
      },
      "outputs": [],
      "source": [
        "#fill na for product_scent\n",
        "df['product_scent'].fillna('neutral', inplace=True)"
      ]
    },
    {
      "cell_type": "code",
      "execution_count": null,
      "metadata": {
        "id": "YXMUYAFCG-x6"
      },
      "outputs": [],
      "source": [
        "import pandas as pd\n",
        "\n",
        "# Assuming df is your DataFrame\n",
        "# Replace this with your actual DataFrame loading or creation code\n",
        "\n",
        "# Filter the DataFrame for rows where 'Offer Status' is 'Yes'\n",
        "df_filtered = df[df['Offer Status'] == 'Offer']\n",
        "\n",
        "# Count the number of unique values in the 'Invoice' column\n",
        "unique_invoices_count = df_filtered['SOP Number'].nunique()\n",
        "\n",
        "print(f\"Number of unique invoices with 'Yes' in Offer Status: {unique_invoices_count}\")\n",
        "\n",
        "print((df[\"SOP Number\"]).nunique())"
      ]
    },
    {
      "cell_type": "code",
      "execution_count": null,
      "metadata": {
        "id": "4nf1XGwvHeJc"
      },
      "outputs": [],
      "source": []
    }
  ],
  "metadata": {
    "colab": {
      "collapsed_sections": [
        "ftEZOisduyns"
      ],
      "provenance": [],
      "mount_file_id": "1vpzckM82PxWgyidiTpWYC5X4ezAgnG5Z",
      "authorship_tag": "ABX9TyN1fZdGc+ponZVBEdZ/Rf/r",
      "include_colab_link": true
    },
    "kernelspec": {
      "display_name": "Python 3",
      "name": "python3"
    },
    "language_info": {
      "name": "python"
    }
  },
  "nbformat": 4,
  "nbformat_minor": 0
}